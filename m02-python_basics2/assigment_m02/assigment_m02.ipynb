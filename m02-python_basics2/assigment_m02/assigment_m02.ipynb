{
 "cells": [
  {
   "cell_type": "markdown",
   "metadata": {},
   "source": [
    "# Homework 1 Introduction to Python \n",
    "In this homework, we will be getting more experienced with python through file processing. With this guide, you will be able to:\n",
    "- read from a text (.txt) file\n",
    "- process the words of the file\n",
    "- output the result of this process\n",
    "\n",
    "### Instructions\n",
    "\n",
    "1. Follow the instructions on how to setup your Python and Jupyter (or VSCode) environment and cloning or downloading our repository. Instructions can be found in the class notes:\n",
    "   https://filipinascimento.github.io/usable_ai/m00-setup/class\n",
    "2. Ensure that you have Python and Jupyter Notebook working. (You can also try using Google Colab. This is not the preferred method for this homework, but it is an option)\n",
    "3. Load the text files: `story-1.txt`, `story-2.txt`, `story-3.txt`, and `story-4.txt`, located in the `Datasets` directory. (If you are using Google Colab, you will need to upload the files to the colab environment)\n",
    "4. Answer the questions below by writing or completing the code in the provided cells.\n",
    "\n",
    "### Dataset Overview\n",
    "The dataset consists of four text files, each containing a story. The stories are:\n",
    "\n",
    "- `story-1.txt`: The Monkey and the Crocodile\n",
    "- `story-2.txt`: The Musical Donkey\n",
    "- `story-3.txt`: A Tale of Three Fish\n",
    "- `story-4.txt`: The Foolish Lion and the Clever Rabbit\n",
    "\n",
    "### Submission Guidelines\n",
    "\n",
    "- Submit your completed notebook as a HTML export, or a PDF file.\n",
    "\n",
    "To export to HTML, if you are on Jupyter, select `File` > `Export Notebook As` > `HTML`.\n",
    "\n",
    "If you are on VSCode, you can use the `Jupyter: Export to HTML` command.\n",
    " - Open the command palette (Ctrl+Shift+P or Cmd+Shift+P on Mac).\n",
    "    - Search for `Jupyter: Export to HTML`.\n",
    "    - Save the HTML file to your computer and submit it via Canvas.\n",
    "\n",
    "---\n",
    "\n",
    "> \n",
    "> **Using Generative AI Responsibly**\n",
    ">\n",
    "> You're welcome to use Generative AI to assist your learning, but focus on understanding the concepts rather than just solving the assignment. For example, instead of copying and pasting the question into the model, ask it to explain the concept in the question. Try asking: `How can I open a file in Python? Can you give me examples?` or `What functions and methods can I use to extract the words of a text file? Can you explain how they work with some examples?`\n",
    ">\n",
    "> This way, you will learn how the solution works while building your skills. Remember to give context to the generative AI, so it can better assist you. Talk to the instructor and AIs if you have any questions or need insights.\n",
    "\n",
    "\n",
    "To begin, we will first need to make sure the functions (set of instructions) we need to use are included in this file. We'll do this through an import statement, followed by the libraries we need. In this case, we will use the `os` library. In the cell below, type the library name where the `_` is. In the remainder of this guide, you will be filling in some value where ever a `_` or `...` is."
   ]
  },
  {
   "cell_type": "code",
   "execution_count": null,
   "metadata": {},
   "outputs": [],
   "source": [
    "# TODO - Enter Library Name\n",
    "import _"
   ]
  },
  {
   "cell_type": "markdown",
   "metadata": {},
   "source": [
    "Next, we'll need to put the text files in a known location. The cell below prints out the current path, place the text files in this directory to ensure they are found by your script."
   ]
  },
  {
   "cell_type": "code",
   "execution_count": null,
   "metadata": {},
   "outputs": [],
   "source": [
    "# Getting the current path and displaying it\n",
    "current_path = os.getcwd()\n",
    "print(current_path)"
   ]
  },
  {
   "cell_type": "markdown",
   "metadata": {},
   "source": [
    "You can compose paths using the `os.path.join()` function. This function takes two arguments, the first being the directory path and the second being the file name. This function will return a string with the path to the file.\n",
    "\n",
    "For example, suppose you have a directory named `data` and a file named `story-1.txt`. You can compose the path to the file using the following code:\n"
   ]
  },
  {
   "cell_type": "code",
   "execution_count": null,
   "metadata": {},
   "outputs": [],
   "source": [
    "# Composing the path to the file\n",
    "a_path = os.path.join('data', 'story-1.txt')\n",
    "print(a_path)"
   ]
  },
  {
   "cell_type": "markdown",
   "metadata": {},
   "source": [
    "Now let's create the directory path to the `Datasets` folder. You can use `\"..\"` to refer to the parent directory. For example to compose a path from the parent of the current directory\n",
    "\n",
    "```python\n",
    "path_to_datasets = os.path.join(\"..\", \"Datasets\")\n",
    "```\n",
    "\n",
    "You can use multiple path components to compose a new path. For example to compose a path from the parent of the current directory to the `Datasets` folder you can use:\n",
    "\n",
    "```python\n",
    "path_to_datasets = os.path.join(a_path, \"..\", \"..\",\"a_file.txt\")\n",
    "```\n",
    "\n",
    "In the cell below, complete the code to create the path to the `Datasets` folder. Remember you already have the current path from previous cells."
   ]
  },
  {
   "cell_type": "code",
   "execution_count": null,
   "metadata": {},
   "outputs": [],
   "source": [
    "# Defining the datasets directory path\n",
    "# TODO - Enter the path to the datasets\n",
    "dataset_path = os.path.join(_)\n",
    "print(dataset_path)"
   ]
  },
  {
   "cell_type": "markdown",
   "metadata": {},
   "source": [
    "## Opening and Reading one of the text files\n",
    "Let's open the first file (`stories-1.txt`) and read it's content.  <br> We will need to call `read()` on `fp` to read in values from the file. <br> "
   ]
  },
  {
   "cell_type": "code",
   "execution_count": null,
   "metadata": {},
   "outputs": [],
   "source": [
    "# TODO - Fill in the stories filename\n",
    "file_path = os.path.join(dataset_path,_)\n",
    "# Opening the file\n",
    "# TODO - Fill the way to open the file\n",
    "with open(file_path, _) as fp:\n",
    "    # TODO - Fill in the variable that represents the file we are working with\n",
    "    content = _.read()\n",
    "    # now you should have the content of the file in the variable content\n",
    "print(\"Content of the file:\",content)"
   ]
  },
  {
   "cell_type": "markdown",
   "metadata": {},
   "source": [
    "You may also find some code with try and catch. In our `except` block, we check if any issues occur, and if they do, we print them to the screen. This is used as a way to catch any errors that may occur during the reading of the file.\n",
    "\n",
    "For instance:\n",
    "\n",
    "```python\n",
    "try:\n",
    "    with open(\"a_file.txt\", \"rt\") as fp:\n",
    "        text = fp.read()\n",
    "        print(text) \n",
    "except Exception as e:\n",
    "    print(\"Error reading file:\", e)\n",
    "```\n",
    "\n",
    "Add a `try` and `except` block to the code that you complete in the previous cell to catch any errors that may occur during the reading of the file."
   ]
  },
  {
   "cell_type": "code",
   "execution_count": null,
   "metadata": {},
   "outputs": [],
   "source": [
    "# TODO - Add a try except block to catch the exception\n",
    "try:\n",
    "    # TODO - Fill in the file name\n",
    "    # Add your previous cell code here\n",
    "    ...\n",
    "except Exception as e:\n",
    "    print(\"Error reading file:\", e)"
   ]
  },
  {
   "cell_type": "markdown",
   "metadata": {},
   "source": [
    "## Counting Words\n",
    "Now we can read the file, we want to count the words that we read into the `words` variable. Take a look at the lesons and/or python documentation to find out how to split the text into words. I also suggest you use the `lower()` method to convert all words to lowercase. This way, we can count the words without worrying about the case of the words."
   ]
  },
  {
   "cell_type": "code",
   "execution_count": null,
   "metadata": {},
   "outputs": [],
   "source": [
    "# TODO - Convert content to lowercase and split it into words\n",
    "lower_content = content.lower()\n",
    "words = ... \n",
    "\n",
    "# The response should be a python list of words like: \"This is a test\" -> ['this', 'is', 'a', 'test']"
   ]
  },
  {
   "cell_type": "markdown",
   "metadata": {},
   "source": [
    "Now create a dictionary and start counting the words by using a for loop. If the word is not in the dictionary, add it with a count of 1. If the word is already in the dictionary, increment the count by 1."
   ]
  },
  {
   "cell_type": "code",
   "execution_count": null,
   "metadata": {},
   "outputs": [],
   "source": [
    "# Now create a dictionary and start counting the words by using a for loop. If the word is not in the dictionary, add it with a count of 1. If the word is already in the dictionary, increment the count by 1.\n",
    "word_count = {}\n",
    "for word in words:\n",
    "    if word in word_count:\n",
    "        # TODO - Increment the count\n",
    "        ...\n",
    "    else:\n",
    "        # TODO - Add the word to the dictionary with a count of 1\n",
    "        ...\n",
    "\n",
    "print(word_count)\n",
    "\n"
   ]
  },
  {
   "cell_type": "markdown",
   "metadata": {},
   "source": [
    "## Repeating the process for all files\n",
    "Now that you have the code to read and count the words in a file, you can repeat this process for all the files. You can create a function that reads a file and returns the word count. Then you can call this function for each file."
   ]
  },
  {
   "cell_type": "markdown",
   "metadata": {},
   "source": [
    "Create a function `count_words_in_file(file_path)` that reads a file and returns a dictionary with the word count. The function should take the file path as an argument.\n",
    "\n",
    "Use your previous codes as a base to create this function. You can copy and paste the code you wrote before into the function."
   ]
  },
  {
   "cell_type": "code",
   "execution_count": null,
   "metadata": {},
   "outputs": [],
   "source": [
    "def count_words_in_file(file_path):\n",
    "    # TODO - Copy the code from the previous cells here, make sure that file_path \n",
    "    ...\n",
    "    return word_count"
   ]
  },
  {
   "cell_type": "markdown",
   "metadata": {},
   "source": [
    "Let's test the function with another story file, like `story-2.txt`."
   ]
  },
  {
   "cell_type": "code",
   "execution_count": null,
   "metadata": {},
   "outputs": [],
   "source": [
    "# You should be able to test your function by running the following code:\n",
    "file_path = os.path.join(dataset_path, \"story-2.txt\")\n",
    "counts_dictionary = count_words_in_file(file_path)\n",
    "print(counts_dictionary)"
   ]
  },
  {
   "cell_type": "markdown",
   "metadata": {},
   "source": [
    "We can now create a list of the files names to individually loop through. <br> Notice stories is a `list`, as it is assigned to values enclosed by brackets (`[]`)."
   ]
  },
  {
   "cell_type": "code",
   "execution_count": null,
   "metadata": {},
   "outputs": [],
   "source": [
    "# List of files names to read in the same directory\n",
    "# TODO - Enter the file names inside the list\n",
    "stories = [...]"
   ]
  },
  {
   "cell_type": "markdown",
   "metadata": {},
   "source": [
    "Let's now loop through the list of files and call the function `count_words_in_file` for each file. We will store the result in a list of dictionaries called `word_counts`."
   ]
  },
  {
   "cell_type": "code",
   "execution_count": null,
   "metadata": {},
   "outputs": [],
   "source": [
    "word_counts = []\n",
    "\n",
    "for story in _:\n",
    "    # TODO - Fill in the file path\n",
    "    file_path = os.path.join(dataset_path, story)\n",
    "    # TODO - Call the function count_words_in_file with the file_path\n",
    "    word_count = ...\n",
    "    # TODO - Append the result to the word_counts list\n",
    "    ...\n",
    "\n",
    "print(word_counts)"
   ]
  },
  {
   "cell_type": "markdown",
   "metadata": {},
   "source": [
    "And there you have it! Submit the completed version of this assignment for points. Save the notebook as a PDF or HTML file and submit it via Canvas. Keep the output of the code cells visible in the exported file."
   ]
  }
 ],
 "metadata": {
  "kernelspec": {
   "display_name": "networks",
   "language": "python",
   "name": "python3"
  },
  "language_info": {
   "codemirror_mode": {
    "name": "ipython",
    "version": 3
   },
   "file_extension": ".py",
   "mimetype": "text/x-python",
   "name": "python",
   "nbconvert_exporter": "python",
   "pygments_lexer": "ipython3",
   "version": "3.8.13"
  }
 },
 "nbformat": 4,
 "nbformat_minor": 4
}
