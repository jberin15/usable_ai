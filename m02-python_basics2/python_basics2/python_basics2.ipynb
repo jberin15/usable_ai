{
 "cells": [
  {
   "cell_type": "markdown",
   "metadata": {},
   "source": [
    "# Module 2 - Python Basics 2"
   ]
  },
  {
   "cell_type": "markdown",
   "metadata": {},
   "source": [
    "In this module we will cover more basic Python concepts. We will start by importing modules and defining functions. We will also cover file I/O, loading data, list comprehensions, lambda functions, and installing packages.\n",
    "\n",
    "## The topics covered in this module:\n",
    "* Importing Modules\n",
    "* Defining Functions\n",
    "* File I/O\n",
    "* Loading Data (JSON, CSV)\n",
    "* List Comprehensions\n",
    "* Lambda Functions\n",
    "* Installing Packages\n"
   ]
  },
  {
   "cell_type": "markdown",
   "metadata": {},
   "source": [
    " ## 1. Importing Modules\n",
    "\n",
    " Python has a lot of built-in modules that you can use. You can import these modules using the `import` statement.\n",
    "\n",
    " The same command can be used to import installed packages."
   ]
  },
  {
   "cell_type": "code",
   "execution_count": null,
   "metadata": {},
   "outputs": [],
   "source": [
    "# importing modules using import statement\n",
    "import math\n",
    "\n",
    "# Import under an alias (avoid this pattern except with the most \n",
    "# common modules like pandas, numpy, etc.)\n",
    "import math as m\n",
    "\n",
    "# Access components with pkg.fn\n",
    "m.pow(2, 3) \n",
    "\n",
    "# Import specific submodules/functions (not usually recommended \n",
    "# because it can be confusing to know where a function comes from)\n",
    "from math import pow\n",
    "pow(2, 3)\n"
   ]
  },
  {
   "cell_type": "markdown",
   "metadata": {},
   "source": [
    " **Q:** After importing the math module, can you import the random module and generate five random floating-point numbers between 0 and 1?\n",
    " - Tip: use random.random() in a for loop\n",
    "\n"
   ]
  },
  {
   "cell_type": "code",
   "execution_count": null,
   "metadata": {},
   "outputs": [],
   "source": [
    "# TODO: Write your code here\n"
   ]
  },
  {
   "cell_type": "markdown",
   "metadata": {},
   "source": [
    " ## 2. Defining Functions\n",
    "\n",
    " A function is a block of code that only runs when it is called. You can pass data, known as parameters, into a function. A function can return data as a result."
   ]
  },
  {
   "cell_type": "code",
   "execution_count": null,
   "metadata": {},
   "outputs": [],
   "source": [
    "# Functions in python are defined using key word \"def\"\n",
    "\n",
    "# simple function to print greetings `greet_word` is an optional argument with default value 'Hello'\n",
    "def greet(name, greet_word='Hello'):\n",
    "    print(f\"{greet_word} {name}. How are you doing?\")\n",
    "\n",
    "# here greet has 'Hello' as default argument for greet_word\n",
    "print(greet('James'))\n",
    "print(greet(\"Steven\", greet_word=\"Howdy\"))\n",
    "\n",
    "# Observe that the function by default returns None\n"
   ]
  },
  {
   "cell_type": "markdown",
   "metadata": {},
   "source": [
    " To return a value from a function, you can use the `return` statement."
   ]
  },
  {
   "cell_type": "code",
   "execution_count": null,
   "metadata": {},
   "outputs": [],
   "source": [
    "# To return a value from a function, you can use the `return` statement.\n",
    "def multiply_and_subtract_one(x, y):\n",
    "    return x * y - 1\n",
    "\n",
    "print(multiply_and_subtract_one(2, 3))\n"
   ]
  },
  {
   "cell_type": "markdown",
   "metadata": {},
   "source": [
    " **Q:** Define a function called \"divide_by_two\" that takes a single parameter and returns half its value. Then test it with both integer and float inputs.\n",
    "\n"
   ]
  },
  {
   "cell_type": "code",
   "execution_count": null,
   "metadata": {},
   "outputs": [],
   "source": [
    "# TODO: Write your code here\n"
   ]
  },
  {
   "cell_type": "markdown",
   "metadata": {},
   "source": [
    " Python supports recursive functions. A recursive function is a function that calls itself."
   ]
  },
  {
   "cell_type": "code",
   "execution_count": null,
   "metadata": {},
   "outputs": [],
   "source": [
    "# Function to print nth fibonacci number\n",
    "def fib(n):\n",
    "    if n <= 1:\n",
    "        return 1\n",
    "    else:\n",
    "        return fib(n-1)+fib(n-2)\n",
    "n = 10\n",
    "print(f\"{n}th fibonacci number is {fib(n)}\")\n"
   ]
  },
  {
   "cell_type": "markdown",
   "metadata": {},
   "source": [
    " ## 3.File I/O\n",
    "\n",
    " Python has functions for file handling and manipulation. The key function to work with files in Python is the `open()` function. The open() function takes two parameters; filename, and mode. The mode parameter specifies whether you want to read, write, or append to the file. Common modes are 'r' for reading, 'w' for writing (which overwrites the file), and 'a' for appending.\n",
    "\n",
    " You can also define the format of the file by adding 't' for text or 'b' for binary."
   ]
  },
  {
   "cell_type": "code",
   "execution_count": null,
   "metadata": {},
   "outputs": [],
   "source": [
    "# Writing to a text file\n",
    "with open(\"example.txt\", \"wt\") as f:\n",
    "    f.write(\"This is an example.\\n\")\n",
    "    f.write(\"This is another example in another line.\\n\")\n",
    "\n"
   ]
  },
  {
   "cell_type": "markdown",
   "metadata": {},
   "source": [
    " You can load the content of a file using the `read()` method. You can also iterate over the lines of a file using a `for` loop. This will progressively load the file line by line."
   ]
  },
  {
   "cell_type": "code",
   "execution_count": null,
   "metadata": {},
   "outputs": [],
   "source": [
    "# Reading from a text file\n",
    "with open(\"example.txt\", \"rt\") as f:\n",
    "    content = f.read()\n",
    "    print(content)\n",
    "\n",
    "# Read line by line\n",
    "with open(\"example.txt\", \"rt\") as f:\n",
    "    for line in f:\n",
    "        print(line)\n",
    "\n"
   ]
  },
  {
   "cell_type": "markdown",
   "metadata": {},
   "source": [
    " Note that the last print resulted into 2 line breaks because the `print()` function adds a newline character at the end of the line that already contains a newline character."
   ]
  },
  {
   "cell_type": "code",
   "execution_count": null,
   "metadata": {},
   "outputs": [],
   "source": [
    "# Note that the last print resulted into 2 line breaks because the `print()` function adds a newline character at the end of the line that already contains a newline character.\n",
    "\n",
    "# You can strip the newline character by using the `strip()` method of the string object.\n",
    "with open(\"example.txt\", \"rt\") as f:\n",
    "    for line in f:\n",
    "        print(line.strip())\n",
    "\n"
   ]
  },
  {
   "cell_type": "markdown",
   "metadata": {},
   "source": [
    " Append a file: You can append to a file by opening it in append mode. When you open a file in append mode, new data is written to the end of the file."
   ]
  },
  {
   "cell_type": "code",
   "execution_count": null,
   "metadata": {},
   "outputs": [],
   "source": [
    "with open(\"example.txt\", \"at\") as f:\n",
    "    f.write(\"This is an appended line.\\n\")\n",
    "\n",
    "with open(\"example.txt\", \"rt\") as f:\n",
    "    content = f.read()\n",
    "    print(content)\n"
   ]
  },
  {
   "cell_type": "markdown",
   "metadata": {},
   "source": [
    " **Q:** Append user input to a file named \"user_input.txt\" and then read it again to verify the content was appended.\n",
    "   - Use the `with open(..., 'at')` approach.\n",
    "   - Then open the file again in read mode and print its contents.\n",
    "\n"
   ]
  },
  {
   "cell_type": "code",
   "execution_count": null,
   "metadata": {},
   "outputs": [],
   "source": [
    "# TODO: Write your code here\n"
   ]
  },
  {
   "cell_type": "markdown",
   "metadata": {},
   "source": [
    " ## 4 Loading Data\n",
    "\n",
    " ### 4.1 Dealing with json files in Python\n",
    "\n",
    " JSON (JavaScript Object Notation) is a lightweight data-interchange format. It is easy for humans to read and write. It is easy for machines to parse and generate.\n",
    "\n",
    "\n",
    "\n",
    " An example of a JSON file:\n",
    "\n",
    " ```json\n",
    " {\n",
    "   \"name\": \"John\",\n",
    "   \"age\": 30,\n",
    "   \"city\": \"New York\"\n",
    "   \"children\": [\n",
    "     {\n",
    "       \"name\": \"Anna\",\n",
    "       \"age\": 5\n",
    "     },\n",
    "     {\n",
    "       \"name\": \"Betty\",\n",
    "       \"age\": 7\n",
    "     }\n",
    "   ]\n",
    " }\n",
    " ```"
   ]
  },
  {
   "cell_type": "code",
   "execution_count": null,
   "metadata": {},
   "outputs": [],
   "source": [
    "# creating a json file\n",
    "import json\n",
    "data = {\n",
    "    \"name\": \"John\",\n",
    "    \"age\": 30,\n",
    "    \"city\": \"New York\"\n",
    "}\n",
    "with open(\"data.json\", \"wt\") as f:\n",
    "    json.dump(data, f)\n",
    "\n",
    "# reading from a json file\n",
    "with open(\"data.json\", \"rt\") as f:\n",
    "    data = json.load(f)\n",
    "    print(data)\n"
   ]
  },
  {
   "cell_type": "markdown",
   "metadata": {},
   "source": [
    " ### 4.2 Dealing with csv files in Python\n",
    "\n",
    " CSV (Comma Separated Values) is a simple file format used to store tabular data, such as a spreadsheet or database. A CSV file stores tabular data (numbers and text) in plain text.\n",
    "\n",
    "\n",
    "\n",
    " >NOTE THAT PANDAS IS A BETTER OPTION FOR DEALING WITH CSV FILES. WE WILL DISCUSS PANDAS IN THE NEXT SECTION."
   ]
  },
  {
   "cell_type": "code",
   "execution_count": null,
   "metadata": {},
   "outputs": [],
   "source": [
    "# creating a csv file\n",
    "import csv\n",
    "with open(\"example.csv\", \"w\") as f:\n",
    "    writer = csv.writer(f)\n",
    "    writer.writerow([\"Name\", \"City\"])\n",
    "    writer.writerow([\"John\", \"New York\"])\n",
    "    writer.writerow([\"Peter\", \"Los Angeles\"])\n",
    "\n",
    "# reading from a csv file\n",
    "with open(\"example.csv\", \"r\") as f:\n",
    "    reader = csv.reader(f)\n",
    "    for row in reader:\n",
    "        print(row)\n",
    "\n",
    "\n"
   ]
  },
  {
   "cell_type": "markdown",
   "metadata": {},
   "source": [
    " ## 5. List Comprehensions (Advanced)\n",
    "\n",
    " List comprehensions provide a concise way to create lists. Common applications are to make new lists where each element is the result of some operation applied to each member of another sequence or iterable, or to create a subsequence of those elements that satisfy a certain condition."
   ]
  },
  {
   "cell_type": "code",
   "execution_count": null,
   "metadata": {},
   "outputs": [],
   "source": [
    "# List comprehension is a concise way to create lists\n",
    "# [expr for var in iterable]\n",
    "\n",
    "result = [x**2 for x in range(10)]\n",
    "print(f\"x squared is {result}\")\n",
    "\n"
   ]
  },
  {
   "cell_type": "markdown",
   "metadata": {},
   "source": [
    " You can add a condition to the list comprehension to filter the elements. For example, you can create a list of even numbers from 0 to 9."
   ]
  },
  {
   "cell_type": "code",
   "execution_count": null,
   "metadata": {},
   "outputs": [],
   "source": [
    "\n",
    "# List comprehension with condition\n",
    "result = [x**2 for x in range(10) if x % 2 == 0]\n",
    "print(f\"x squared when x is even is {result}\")\n"
   ]
  },
  {
   "cell_type": "markdown",
   "metadata": {},
   "source": [
    " **Q:** Use a list comprehension to generate the cubes of numbers from 1 to 7.\n",
    " - Then filter out cubes that are divisible by 3 and print the result.\n",
    "\n"
   ]
  },
  {
   "cell_type": "code",
   "execution_count": null,
   "metadata": {},
   "outputs": [],
   "source": [
    "# TODO: Write your code here\n"
   ]
  },
  {
   "cell_type": "markdown",
   "metadata": {},
   "source": [
    " You can have complex nested loops in list comprehensions. For example, you can create a list of tuples by combining elements from two lists."
   ]
  },
  {
   "cell_type": "code",
   "execution_count": null,
   "metadata": {},
   "outputs": [],
   "source": [
    "\n",
    "# List comprehension with nested loops\n",
    "result = [(x, y) for x in range(3) for y in range(3)]\n",
    "print(f\"Cartesian product of [0, 1, 2] is {result}\")\n",
    "\n"
   ]
  },
  {
   "cell_type": "markdown",
   "metadata": {},
   "source": [
    " You can combine nested loops with conditions."
   ]
  },
  {
   "cell_type": "code",
   "execution_count": null,
   "metadata": {},
   "outputs": [],
   "source": [
    "\n",
    "# List comprehension with nested loops and condition\n",
    "result = [(x, y) for x in range(3) for y in range(3) if x != y]\n",
    "print(f\"Cartesian product of [0, 1, 2] without diagonal is {result}\")\n"
   ]
  },
  {
   "cell_type": "markdown",
   "metadata": {},
   "source": [
    " Nested loops can be useful to flatten a list of lists. For example, you can flatten a list of lists into a single list."
   ]
  },
  {
   "cell_type": "code",
   "execution_count": null,
   "metadata": {},
   "outputs": [],
   "source": [
    "list_of_lists = [[1, 2], [3, 4], [5, 6]]\n",
    "\n",
    "result = [item for sublist in list_of_lists for item in sublist]\n",
    "print(f\"Flattened list is {result}\")\n"
   ]
  },
  {
   "cell_type": "markdown",
   "metadata": {},
   "source": [
    " ## 6. Lambda Functions (Advanced)\n",
    "\n",
    " Lambda functions are small anonymous functions. They can have any number of arguments but only one expression. They are defined using the `lambda` keyword."
   ]
  },
  {
   "cell_type": "code",
   "execution_count": null,
   "metadata": {},
   "outputs": [],
   "source": [
    "# Lambda functions are anonymous functions\n",
    "# lambda arguments: expression\n",
    "f = lambda x: x**2\n",
    "print(f\"Square of 10 is {f(10)}\")\n",
    "\n"
   ]
  },
  {
   "cell_type": "markdown",
   "metadata": {},
   "source": [
    " Lambda functions are used with map, filter and reduce functions.\n",
    "\n",
    "\n",
    "\n",
    " The `map()` function takes in a function and a list. The function is applied to every item in the list. It returns a list of the results."
   ]
  },
  {
   "cell_type": "code",
   "execution_count": null,
   "metadata": {},
   "outputs": [],
   "source": [
    "\n",
    "# map applies a function to all the items in an input list\n",
    "# map(function, iterable)\n",
    "result = list(map(lambda x: x**2, range(10)))\n",
    "print(f\"Square of 0 to 9 is {result}\")\n",
    "\n"
   ]
  },
  {
   "cell_type": "markdown",
   "metadata": {},
   "source": [
    " The `filter()` function takes in a function and a list. The function is applied to every item in the list. It returns a list of items for which the function returns True."
   ]
  },
  {
   "cell_type": "code",
   "execution_count": null,
   "metadata": {},
   "outputs": [],
   "source": [
    "\n",
    "# filter creates a list of elements for which a function returns true\n",
    "# filter(function, iterable)\n",
    "result = list(filter(lambda x: x % 2 == 0, range(10)))\n",
    "print(f\"Even numbers in 0 to 9 are {result}\")\n",
    "\n"
   ]
  },
  {
   "cell_type": "markdown",
   "metadata": {},
   "source": [
    " The `reduce()` function is defined in the `functools` module. It applies a rolling computation to sequential pairs of values in a list. For example, you can use the `reduce()` function to calculate the sum of a list of numbers.\n",
    "\n"
   ]
  },
  {
   "cell_type": "code",
   "execution_count": null,
   "metadata": {},
   "outputs": [],
   "source": [
    "\n",
    "# reduce applies a rolling computation to sequential pairs of values in a list\n",
    "# reduce(function, iterable)\n",
    "from functools import reduce\n",
    "result = reduce(lambda x, y: x + y, range(10))\n",
    "\n",
    "# The above code is equivalent to sum(range(10))\n",
    "print(f\"Sum of 0 to 9 is {result}\")\n",
    "\n"
   ]
  },
  {
   "cell_type": "markdown",
   "metadata": {},
   "source": [
    " Lambda functions have other uses as well, such as in sorting and in defining functions that take functions as arguments."
   ]
  },
  {
   "cell_type": "code",
   "execution_count": null,
   "metadata": {},
   "outputs": [],
   "source": [
    "pairs = [(1, 'one'), (2, 'two'), (3, 'three'), (4, 'four')]\n",
    "pairs.sort(key=lambda pair: pair[1])\n",
    "print(f\"Sorted pairs based on second element is {pairs}\")\n"
   ]
  },
  {
   "cell_type": "markdown",
   "metadata": {},
   "source": [
    " ## 7. Installing Packages\n",
    "\n",
    " There are many packages available for Python. Most of them are available on the Python Package Index (PyPI). You can install packages using the `pip` command. For example, to install the `numpy` package, you can use the command `!pip install numpy` (on collab).\n",
    "\n",
    "\n",
    "\n",
    " Check out the [PyPI website](https://pypi.org/) for more information on available packages.\n",
    "\n",
    "\n",
    "\n",
    " Some advanced packages can only be installed via conda. For example, to install the `numpy` package, you can use the command `!conda install <package_name>`. Refer to the [conda documentation](https://docs.conda.io/projects/conda/en/latest/user-guide/tasks/manage-pkgs.html) for more information.\n",
    "\n",
    "\n",
    "\n"
   ]
  },
  {
   "cell_type": "markdown",
   "metadata": {},
   "source": [
    " If you are on colab, you can install extra packages using\n",
    "\n"
   ]
  },
  {
   "cell_type": "code",
   "execution_count": null,
   "metadata": {},
   "outputs": [],
   "source": [
    "!pip install package_name\n"
   ]
  },
  {
   "cell_type": "markdown",
   "metadata": {},
   "source": [
    " If you are on jupyter notebook, you can install extra packages using:\n",
    "\n"
   ]
  },
  {
   "cell_type": "code",
   "execution_count": null,
   "metadata": {},
   "outputs": [],
   "source": [
    "pip install package_name\n"
   ]
  },
  {
   "cell_type": "markdown",
   "metadata": {},
   "source": [
    " ## 8. References to other advanced topics\n",
    "\n",
    " Python has a lot of advanced topics that you can learn. For instance it is possible to create classes and objects, use decorators, context managers, and more. These topics are not covered in this course but you can find more information in the Python documentation or in other tutorials.\n",
    "\n",
    "\n",
    "\n",
    "  - [Python Documentation](https://docs.python.org/3/)\n",
    "\n",
    "  - [Python Tutorial](https://docs.python.org/3/tutorial/index.html)\n",
    "\n",
    "  - [Python Library Reference](https://docs.python.org/3/library/index.html)\n",
    "\n",
    "  - [YYiki Python](https://yyiki.org/wiki/Python/)\n",
    "\n",
    "  - [Real Python](https://realpython.com/)"
   ]
  },
  {
   "cell_type": "markdown",
   "metadata": {},
   "source": [
    " ## Extra questions\n",
    "\n",
    "\n",
    "\n",
    " For each of the following question, first think about the result without running the code. Then test it by running the code. Reach out if you don't understand why!"
   ]
  },
  {
   "cell_type": "markdown",
   "metadata": {},
   "source": [
    " ### What's the output?\n",
    "\n",
    " ```python\n",
    " def func(a):\n",
    "     a = a + 2\n",
    "     a = a * 2\n",
    "     return a\n",
    "\n",
    " print(func(2))\n",
    " ```"
   ]
  },
  {
   "cell_type": "code",
   "execution_count": null,
   "metadata": {},
   "outputs": [],
   "source": [
    "# TRY IT OUT\n"
   ]
  },
  {
   "cell_type": "markdown",
   "metadata": {},
   "source": [
    " ### True? False? Why?\n",
    "\n",
    "\n",
    "\n",
    " ```python\n",
    " 0.1 + 0.2 == 0.3\n",
    " ```"
   ]
  },
  {
   "cell_type": "code",
   "execution_count": null,
   "metadata": {},
   "outputs": [],
   "source": [
    "# YOUR SOLUTION HERE\n"
   ]
  },
  {
   "cell_type": "markdown",
   "metadata": {},
   "source": [
    " ### 3. What is `list_1` and `list_2` and why?\n",
    "\n",
    "\n",
    "\n",
    "\n",
    "\n",
    " ```python\n",
    " list_1 = [1,2,3]\n",
    " list_2 = list_1\n",
    " list_1.append(4)\n",
    " list_2 += [5]\n",
    " list_2 = list_2 + [10]\n",
    " ```\n",
    "\n"
   ]
  },
  {
   "cell_type": "code",
   "execution_count": null,
   "metadata": {},
   "outputs": [],
   "source": [
    "# YOUR SOLUTION HERE\n"
   ]
  },
  {
   "cell_type": "markdown",
   "metadata": {},
   "source": [
    " ### What's the output?\n",
    "\n",
    "\n",
    "\n",
    " ```python\n",
    " l = [i**2 for i in range(10)]\n",
    " l[-4:2:-3]\n",
    " ```\n",
    "\n"
   ]
  },
  {
   "cell_type": "code",
   "execution_count": null,
   "metadata": {},
   "outputs": [],
   "source": [
    "# YOUR SOLUTION HERE\n"
   ]
  },
  {
   "cell_type": "markdown",
   "metadata": {},
   "source": [
    " ### What does the code do? If the ordering doesn't matter, how can it be simplified?\n",
    "\n",
    "\n",
    "\n",
    " ```python\n",
    " def func1(lst):\n",
    "     a = []\n",
    "     for i in lst:\n",
    "         if i not in a:\n",
    "             a.append(i)\n",
    "     return a\n",
    " ```\n",
    "\n"
   ]
  },
  {
   "cell_type": "code",
   "execution_count": null,
   "metadata": {},
   "outputs": [],
   "source": [
    "# YOUR SOLUTION HERE\n"
   ]
  },
  {
   "cell_type": "markdown",
   "metadata": {},
   "source": [
    " ### What would be the output?\n",
    "\n",
    "\n",
    "\n",
    " ```python\n",
    " val = [0, 10, 15, 20]\n",
    " data = 15\n",
    " try:\n",
    "     data = data/val[0]\n",
    " except ZeroDivisionError:\n",
    "     print(\"zero division error - 1\")\n",
    " except:\n",
    "     print(\"zero division error - 2\")\n",
    " finally:\n",
    "     print(\"zero division error - 3\")\n",
    "\n",
    " val = [0, 10, 15, 20]\n",
    " data = 15\n",
    "\n",
    " try:\n",
    "     data = data/val[4]\n",
    " except ZeroDivisionError:\n",
    "     print(\"zero division error - 1\")\n",
    " except:\n",
    "     print(\"zero division error - 2\")\n",
    " finally:\n",
    "     print(\"zero division error - 3\")\n",
    "\n",
    " ```\n",
    "\n"
   ]
  },
  {
   "cell_type": "code",
   "execution_count": null,
   "metadata": {},
   "outputs": [],
   "source": [
    "# YOUR SOLUTION HERE\n"
   ]
  },
  {
   "cell_type": "markdown",
   "metadata": {},
   "source": [
    " ### What does the code do?\n",
    "\n",
    "\n",
    "\n",
    " ```python\n",
    "\n",
    " def func(s):\n",
    "     d = {}\n",
    "     for c in s:\n",
    "         if c in d:\n",
    "             d[n] += 1\n",
    "         else:\n",
    "             d[n] = 1\n",
    "     return d\n",
    " ```\n",
    "\n",
    "\n",
    "\n",
    " (Btw, the same operation can be done by simply running `Counter(s)` by using `Counter` data structure in the `collections` module.)"
   ]
  },
  {
   "cell_type": "code",
   "execution_count": null,
   "metadata": {},
   "outputs": [],
   "source": [
    "# YOUR SOLUTION HERE\n"
   ]
  },
  {
   "cell_type": "markdown",
   "metadata": {},
   "source": [
    " ### What's the output?\n",
    "\n",
    "\n",
    "\n",
    " ```python\n",
    " def func(l):\n",
    "     l.append(10)\n",
    "     return l\n",
    "\n",
    " a = [1,2,3]\n",
    " b = func(a)\n",
    " a == b\n",
    " ```"
   ]
  },
  {
   "cell_type": "code",
   "execution_count": null,
   "metadata": {},
   "outputs": [],
   "source": [
    "# YOUR SOLUTION HERE\n"
   ]
  },
  {
   "cell_type": "markdown",
   "metadata": {},
   "source": [
    " ### What's happening to `a` in each step? Why?\n",
    "\n",
    " ```python\n",
    " # step 1\n",
    " a = [ [ ] ] * 5\n",
    " # step 2\n",
    " a[0].append(10)\n",
    " # step 3\n",
    " a[1].append(20)\n",
    " # step 4\n",
    " a.append(30)\n",
    " \n",
    " ```"
   ]
  },
  {
   "cell_type": "code",
   "execution_count": null,
   "metadata": {},
   "outputs": [],
   "source": [
    "# YOUR SOLUTION HERE\n"
   ]
  },
  {
   "cell_type": "markdown",
   "metadata": {},
   "source": [
    " ### What's the output?\n",
    "\n",
    "\n",
    "\n",
    " ```python\n",
    " L = list('abcdefghijk')\n",
    " L[1] = L[4] = 'x'\n",
    " L[3] = L[-3]\n",
    " print(L)\n",
    " ```\n",
    "\n"
   ]
  },
  {
   "cell_type": "code",
   "execution_count": null,
   "metadata": {},
   "outputs": [],
   "source": [
    "# YOUR SOLUTION HERE\n"
   ]
  },
  {
   "cell_type": "markdown",
   "metadata": {},
   "source": [
    " ### What's the output?\n",
    "\n",
    " ```python\n",
    " y = 8\n",
    " z = lambda x : x * y\n",
    " print(z(6))\n",
    " ```\n",
    "\n"
   ]
  },
  {
   "cell_type": "code",
   "execution_count": null,
   "metadata": {},
   "outputs": [],
   "source": [
    "# YOUR SOLUTION HERE\n"
   ]
  },
  {
   "cell_type": "markdown",
   "metadata": {},
   "source": [
    " ### What's the output?\n",
    "\n",
    "\n",
    "\n",
    " ```python\n",
    " count = 1\n",
    "\n",
    " def func(count):\n",
    "     for i in (1, 2, 3):\n",
    "         count += 1\n",
    " func(count = 10)\n",
    " count += 5\n",
    " print(count)\n",
    " ```\n",
    "\n"
   ]
  },
  {
   "cell_type": "code",
   "execution_count": null,
   "metadata": {},
   "outputs": [],
   "source": [
    "# YOUR SOLUTION HERE\n",
    "\n",
    "\n"
   ]
  }
 ],
 "metadata": {
  "language_info": {
   "codemirror_mode": {
    "name": "ipython",
    "version": 3
   },
   "file_extension": ".py",
   "mimetype": "text/x-python",
   "name": "python",
   "nbconvert_exporter": "python",
   "pygments_lexer": "ipython3",
   "version": 3
  }
 },
 "nbformat": 4,
 "nbformat_minor": 2
}
