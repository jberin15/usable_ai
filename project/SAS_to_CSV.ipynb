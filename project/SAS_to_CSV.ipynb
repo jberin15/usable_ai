{
 "cells": [
  {
   "cell_type": "code",
   "execution_count": 6,
   "id": "94e7520e-ab08-49eb-9ce7-26643ae1ad95",
   "metadata": {},
   "outputs": [
    {
     "name": "stdout",
     "output_type": "stream",
     "text": [
      "✅ Successfully converted to CSV: C:\\Users\\jberin\\usable_ai\\project\\data\\LLCP2019.csv\n"
     ]
    }
   ],
   "source": [
    "import pyreadstat\n",
    "\n",
    "xpt_filepath = r\"C:\\Users\\jberin\\usable_ai\\project\\data\\LLCP2019.XPT\"\n",
    "csv_filepath = r\"C:\\Users\\jberin\\usable_ai\\project\\data\\LLCP2019.csv\"\n",
    "\n",
    "try:\n",
    "    df, meta = pyreadstat.read_xport(xpt_filepath, encoding=\"latin1\")\n",
    "    df.to_csv(csv_filepath, index=False)\n",
    "    print(f\"Successfully converted to CSV: {csv_filepath}\")\n",
    "except Exception as e:\n",
    "    print(f\"Error during conversion: {e}\")\n"
   ]
  },
  {
   "cell_type": "code",
   "execution_count": null,
   "id": "80a6a254-3876-438a-97ab-6cafce76e377",
   "metadata": {},
   "outputs": [],
   "source": []
  }
 ],
 "metadata": {
  "kernelspec": {
   "display_name": "Python 3 (ipykernel)",
   "language": "python",
   "name": "python3"
  },
  "language_info": {
   "codemirror_mode": {
    "name": "ipython",
    "version": 3
   },
   "file_extension": ".py",
   "mimetype": "text/x-python",
   "name": "python",
   "nbconvert_exporter": "python",
   "pygments_lexer": "ipython3",
   "version": "3.9.13"
  }
 },
 "nbformat": 4,
 "nbformat_minor": 5
}
