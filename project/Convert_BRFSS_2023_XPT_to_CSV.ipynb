{
 "cells": [
  {
   "cell_type": "markdown",
   "id": "0a044d9d-4d54-4e17-988d-63b995890698",
   "metadata": {},
   "source": [
    "Convert BRFSS 2023 XPT to CSV\n",
    "\n",
    "    This code installs pyreadstat, loads the 2023 BRFSS dataset in SAS XPT format, and saves it as a CSV file for easier analysis. "
   ]
  },
  {
   "cell_type": "code",
   "execution_count": 10,
   "id": "fc6189eb-c1ed-4d6c-b75d-736204393a93",
   "metadata": {},
   "outputs": [
    {
     "name": "stdout",
     "output_type": "stream",
     "text": [
      "Defaulting to user installation because normal site-packages is not writeable\n",
      "Requirement already satisfied: pyreadstat in c:\\users\\joyce\\appdata\\roaming\\python\\python312\\site-packages (1.2.8)\n",
      "Requirement already satisfied: pandas>=1.2.0 in c:\\programdata\\anaconda3\\lib\\site-packages (from pyreadstat) (2.2.2)\n",
      "Requirement already satisfied: numpy>=1.26.0 in c:\\programdata\\anaconda3\\lib\\site-packages (from pandas>=1.2.0->pyreadstat) (1.26.4)\n",
      "Requirement already satisfied: python-dateutil>=2.8.2 in c:\\programdata\\anaconda3\\lib\\site-packages (from pandas>=1.2.0->pyreadstat) (2.9.0.post0)\n",
      "Requirement already satisfied: pytz>=2020.1 in c:\\programdata\\anaconda3\\lib\\site-packages (from pandas>=1.2.0->pyreadstat) (2024.1)\n",
      "Requirement already satisfied: tzdata>=2022.7 in c:\\programdata\\anaconda3\\lib\\site-packages (from pandas>=1.2.0->pyreadstat) (2023.3)\n",
      "Requirement already satisfied: six>=1.5 in c:\\programdata\\anaconda3\\lib\\site-packages (from python-dateutil>=2.8.2->pandas>=1.2.0->pyreadstat) (1.16.0)\n"
     ]
    }
   ],
   "source": [
    "import sys\n",
    "!{sys.executable} -m pip install pyreadstat"
   ]
  },
  {
   "cell_type": "code",
   "execution_count": 2,
   "id": "ade165b6-a696-4a68-b514-d57a1fa25f82",
   "metadata": {},
   "outputs": [
    {
     "name": "stdout",
     "output_type": "stream",
     "text": [
      "pyreadstat version: 1.2.8\n"
     ]
    }
   ],
   "source": [
    "import pyreadstat\n",
    "print(\"pyreadstat version:\", pyreadstat.__version__)"
   ]
  },
  {
   "cell_type": "code",
   "execution_count": 4,
   "id": "94e7520e-ab08-49eb-9ce7-26643ae1ad95",
   "metadata": {},
   "outputs": [
    {
     "name": "stdout",
     "output_type": "stream",
     "text": [
      "Successfully converted to CSV: C:\\Users\\joyce\\usable_ai\\project\\data\\BRFSS2023.csv\n"
     ]
    }
   ],
   "source": [
    "\"\"\"\n",
    "Data Source: https://www.cdc.gov/brfss/annual_data/annual_2023.html\n",
    "Download 2023 BRFSS Data (SAS Transport Format)\n",
    "Unzip 2023 BRFSS Data (SAS Transport Format) - XPT file\n",
    "\"\"\"\n",
    "xpt_filepath = r\"C:\\Users\\joyce\\usable_ai\\project\\data\\LLCP2023.XPT\"\n",
    "csv_filepath = r\"C:\\Users\\joyce\\usable_ai\\project\\data\\BRFSS2023.csv\"\n",
    "\n",
    "try:\n",
    "    df, meta = pyreadstat.read_xport(xpt_filepath, encoding=\"latin1\")\n",
    "    df.to_csv(csv_filepath, index=False)\n",
    "    print(f\"Successfully converted to CSV: {csv_filepath}\")\n",
    "except Exception as e:\n",
    "    print(f\"Error during conversion: {e}\")\n"
   ]
  }
 ],
 "metadata": {
  "kernelspec": {
   "display_name": "Python [conda env:base] *",
   "language": "python",
   "name": "conda-base-py"
  },
  "language_info": {
   "codemirror_mode": {
    "name": "ipython",
    "version": 3
   },
   "file_extension": ".py",
   "mimetype": "text/x-python",
   "name": "python",
   "nbconvert_exporter": "python",
   "pygments_lexer": "ipython3",
   "version": "3.12.7"
  }
 },
 "nbformat": 4,
 "nbformat_minor": 5
}
