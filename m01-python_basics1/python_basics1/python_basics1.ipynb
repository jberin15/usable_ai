{
 "cells": [
  {
   "cell_type": "markdown",
   "metadata": {},
   "source": [
    " # Module 1 - Python Basics 1"
   ]
  },
  {
   "cell_type": "markdown",
   "metadata": {},
   "source": [
    "Are you still new to Python? Or your python skill is a bit rusty?\n",
    "\n",
    "Then, feel free to use this to learn or refresh Python basics! You don't have to submit this notebook. It is just for your own reference.\n",
    "\n",
    "We begin by focusing on constructing and executing Python scripts. This fundamental skill allows you to instruct your computer to perform a multitude of tasks. As you master this technique, you will be able to transform abstract ideas into executable programs, opening up a world of possibilities for automation and efficient problem-solving.\n",
    "\n",
    "Moving forward, we will dive into loops and conditional statements. These powerful constructs enable your programs to dynamically react to varying scenarios and diverse data inputs. Leveraging these tools allows for the creation of responsive and adaptive code, which is essential for tackling complex challenges.\n",
    "\n",
    "Towards the end of the module, we'll explore the concept of reusable functions. Crafting well-structured functions not only enhances the modularity and reusability of your code, but also simplifies maintenance. This skill is paramount for reducing redundancy, streamlining debugging, and ensuring that your code remains clear and adaptable.\n",
    "\n",
    "## Objectives\n",
    "\n",
    "- **Construct and Execute Python Scripts:** Develop the ability to write and run basic Python scripts that adhere to standard syntax, establishing a firm foundation in programming.\n",
    "- **Apply Loops and Conditional Statements:** Implement loops and conditional constructs to manipulate data effectively and solve intricate problems.\n",
    "- **Create Reusable Functions:** Design and integrate Python functions that promote modularity and reusability, enhancing both code efficiency and maintainability.\n",
    "\n",
    "## The topics covered in this module:\n",
    "* Variables and built in datatypes\n",
    "* Printing and user input\n",
    "* Operators\n",
    "* Lists and Tuples\n",
    "* Dictionaries\n",
    "* Sets\n",
    "* Flow control\n"
   ]
  },
  {
   "cell_type": "markdown",
   "metadata": {},
   "source": [
    " ## 1. Variables and built-in data types"
   ]
  },
  {
   "cell_type": "markdown",
   "metadata": {},
   "source": [
    " ### 1.1 Basic and variables"
   ]
  },
  {
   "cell_type": "markdown",
   "metadata": {},
   "source": [
    " You can comment in Python using `#`. Comments are ignored by the Python interpreter.\n",
    "\n",
    " To define a variable, assign a value to a variable name. Python will automatically detect the data type. The syntax is `variable_name = value`. You can print a variable using the `print(variable_name)` function.\n",
    "\n"
   ]
  },
  {
   "cell_type": "code",
   "execution_count": null,
   "metadata": {},
   "outputs": [],
   "source": [
    "# This is a comment and will be ignored by the interpreter\n",
    "a_variable = \"the value\"\n",
    "# This is another comment and will also be ignored by the interpreter\n",
    "print(a_variable)\n"
   ]
  },
  {
   "cell_type": "markdown",
   "metadata": {},
   "source": [
    " Variables can be reassigned with a different value and data type. For example, you can change an integer to a string:"
   ]
  },
  {
   "cell_type": "code",
   "execution_count": null,
   "metadata": {},
   "outputs": [],
   "source": [
    "a_variable = 10\n",
    "print(a_variable)  # Output: 10\n",
    "a_variable = \"Now I'm a string!\"\n",
    "print(a_variable)  # Output: Now I'm a string!\n"
   ]
  },
  {
   "cell_type": "markdown",
   "metadata": {},
   "source": [
    " **Q:** Create two variables and then swap their values. Print the variables before and after the swap.\n",
    "  - For example if `a = 1` and `b = 2`, after the swap `a = 2` and `b = 1`."
   ]
  },
  {
   "cell_type": "code",
   "execution_count": null,
   "metadata": {},
   "outputs": [],
   "source": [
    "# TODO: Write your code here\n"
   ]
  },
  {
   "cell_type": "markdown",
   "metadata": {},
   "source": [
    " ### 1.2 Printing composed variables and text\n",
    "\n",
    " Use the `print()` function to print variables and text. You can use the `+` operator to concatenate strings. You can also concatenate variables and strings by separating them with a comma."
   ]
  },
  {
   "cell_type": "code",
   "execution_count": null,
   "metadata": {},
   "outputs": [],
   "source": [
    "print(\"Hello, World!\")  # Output: Hello, World!\n",
    "\n",
    "# Example of print with concatenation\n",
    "a_planet = \"Earth\"\n",
    "print(\"Hello from \" + a_planet + \"!\")\n",
    "# Output: Hello from Earth!\n",
    "\n",
    "# Example of print with comma separated values\n",
    "a_planet = \"Mars\"\n",
    "another_planet = \"Jupiter\"\n",
    "print(\"Hello from\", a_planet, \"and\", another_planet + \"!\")\n",
    "# Output: Hello from Mars and Jupiter!\n",
    "\n"
   ]
  },
  {
   "cell_type": "markdown",
   "metadata": {},
   "source": [
    " Another way to format text is using the f-string method. You can use f-string by adding an `f` before the string and then use curly braces `{}` to insert variables."
   ]
  },
  {
   "cell_type": "code",
   "execution_count": null,
   "metadata": {},
   "outputs": [],
   "source": [
    "# Example of f-string print\n",
    "a_planet = \"Earth\"\n",
    "another_planet = \"Mars\"\n",
    "print(f\"Hello from {a_planet} and {another_planet}!\")  # Output: Hello from Earth and Mars!\n"
   ]
  },
  {
   "cell_type": "markdown",
   "metadata": {},
   "source": [
    " ### 1.3 Int and Float\n",
    "\n",
    " Numbers can be stored in variables. Integers are whole numbers, while floats are numbers with decimal points. Example: `x = 5` or `y = 3.14`."
   ]
  },
  {
   "cell_type": "code",
   "execution_count": null,
   "metadata": {},
   "outputs": [],
   "source": [
    "# Declaring an integer and a float variable\n",
    "x = 10 \n",
    "y = 3.0\n",
    "k = x + y + 100\n",
    "\n",
    "# The value stored in the variable can be inspected by using print statement. \n",
    "# Type of a variable var can be checked by calling type(var) \n",
    "print(\"The value of x is\", x, \"and it is of type\", type(x))\n",
    "\n",
    "# f-strings can be used to write more elegant print statement. \n",
    "print(f\"The value of y is {y} and it is of type {type(y)}\")\n",
    "print(f\"The value of k is {k} and it is of type {type(k)}\")\n",
    "\n",
    "# casting int to float\n",
    "print(f\"x is of type {type(x)}\")\n",
    "x = float(x)\n",
    "print(f\"x is of type {type(x)} after casting\")\n"
   ]
  },
  {
   "cell_type": "markdown",
   "metadata": {},
   "source": [
    " Numbers can also be written in different formats. For example, you can use scientific notation: `z = 1.23e-4` (equivalent to 0.000123)."
   ]
  },
  {
   "cell_type": "code",
   "execution_count": null,
   "metadata": {},
   "outputs": [],
   "source": [
    "# Numbers can also be written in scientific notation\n",
    "x = 1.05e6\n",
    "print(f\"x is {x} and it is of type {type(x)}\")\n",
    "\n",
    "# You can also use _ to make the number more readable\n",
    "x = 1_000_000\n",
    "print(f\"x is {x} and it is of type {type(x)}\")\n"
   ]
  },
  {
   "cell_type": "markdown",
   "metadata": {},
   "source": [
    " You can perform arithmetic operations on numbers. The basic arithmetic operators are `+`, `-`, `*`, `/`, `//` (integer division), and `%` (modulo)."
   ]
  },
  {
   "cell_type": "code",
   "execution_count": null,
   "metadata": {},
   "outputs": [],
   "source": [
    "# Arithmetic operators\n",
    "\n",
    "# Addition\n",
    "z = x + y\n",
    "print(f\"Adding x and y gives {z}\")\n",
    "\n",
    "# Subtraction\n",
    "z = x - y\n",
    "print(f\"Subtracting y from x gives {z}\")\n",
    "\n",
    "# Multiplication\n",
    "z = x * y\n",
    "print(f\"Multiplying x and y gives {z}\")\n",
    "\n",
    "# Division\n",
    "z = x / y \n",
    "print(f\"x divided by y gives {z}\") \n",
    "\n",
    "# Floor Division\n",
    "z = x // y \n",
    "print(f\"x divided by y gives {z} as quotient\") \n",
    "\n",
    "# Modulus Operator\n",
    "z = x % y \n",
    "print(f\"x divided by y gives {z} as reminder\")\n",
    "\n",
    "# Exponentiation\n",
    "z = x ** y\n",
    "print(f\"x raised to y gives {z}\") \n",
    "\n",
    "# self increment by 1\n",
    "x = x + 1\n",
    "# This is equivalent to x += 1\n",
    "print(f\"x + 1 gives {x}\")\n"
   ]
  },
  {
   "cell_type": "markdown",
   "metadata": {},
   "source": [
    " ### 1.4 Booleans and None\n",
    "\n",
    " Bolean values are `True` and `False` and are used to represent binary values. `None` is a special value that represents the absence of a value, when tested, normally it results to `False`."
   ]
  },
  {
   "cell_type": "code",
   "execution_count": null,
   "metadata": {},
   "outputs": [],
   "source": [
    "# True and False are the key words that represent bool values in python\n",
    "a = True\n",
    "b = False\n",
    "\n",
    "print(f\"a is {a} and b is {b}\")\n",
    "print(f\"Type of variable a and b is {type(a)}\")\n",
    "\n",
    "# None in python represents the absence of something; similar to null value\n",
    "c = None \n",
    "print(f\"c is {c} and is of type {type(c)}\")\n",
    "\n",
    "# Any non-zero integer value is true and zero is false.\n",
    "# Also anything with a non-zero length is true and empty sequences are false.\n"
   ]
  },
  {
   "cell_type": "markdown",
   "metadata": {},
   "source": [
    " You can use logical operators `and`, `or`, and `not` to combine boolean values."
   ]
  },
  {
   "cell_type": "code",
   "execution_count": null,
   "metadata": {},
   "outputs": [],
   "source": [
    "# logical operators \n",
    "\n",
    "# and, or and not operate on bool variables\n",
    "# OR operator: Gives True when either of the expressions evaluates to True\n",
    "# expr1 or expr2\n",
    "print(f\"a or b is {a or b}\")\n",
    "print(f\"a or a is {a or a}\")\n",
    "print(f\"b or b is {b or b}\")\n",
    "\n",
    "# AND operator: Gives True when both the expressions evaluates to True\n",
    "# expr1 and expr2\n",
    "print(f\"a and b is {a and b}\")\n",
    "print(f\"a and a is {a and a}\")\n",
    "print(f\"b and b is {b and b}\")\n",
    "\n",
    "# NOT operator: negates a bool\n",
    "# not expr1\n",
    "print(f\"Not of a is {not a}\")\n"
   ]
  },
  {
   "cell_type": "markdown",
   "metadata": {},
   "source": [
    " Comparison operators result in boolean values. The comparison operators are `==` (equal), `!=` (not equal), `>`, `<`, `>=`, and `<=`.\n",
    "\n",
    "\n",
    "\n",
    " You can also combine comparison operators to create more complex conditions, such as `x > 5 and x < 10`, which checks if `x` is between 5 and 10.\n",
    "\n",
    "\n",
    "\n",
    " Additionally, logical operators can be used in conjunction with comparison operators to create more complex conditions, for example: `if x > 5 and x < 10: print(\"x is between 5 and 10\")`."
   ]
  },
  {
   "cell_type": "code",
   "execution_count": null,
   "metadata": {},
   "outputs": [],
   "source": [
    "# comparison operators\n",
    "\n",
    "x = 10\n",
    "y = 3.0\n",
    "z = 5\n",
    "\n",
    "# greater that, less than, greater than equal to and lesser than equal to\n",
    "x > y\n",
    "x >= y\n",
    "x < y\n",
    "x <= y\n",
    "\n",
    "# equals and not equals\n",
    "x == y\n",
    "x != y\n",
    "\n",
    "# Chained Expressions \n",
    "x > y > z \n",
    "(x > y) or (x > z)\n"
   ]
  },
  {
   "cell_type": "markdown",
   "metadata": {},
   "source": [
    " ### 1.5 Strings\n",
    "\n",
    " Strings are sequences of characters, e.g., pieces of text. You can create them by enclosing characters in quotes. Python treats single quotes the same as double quotes.\n",
    "\n",
    "\n",
    "\n",
    " Strings can be concatenated using the `+` operator. You can also multiply strings by integers to repeat them.\n",
    "\n",
    "\n",
    "\n",
    " You may need to escape special characters in strings using a backslash `\\`. For example, to include a quote in a string, you can use `\\'`.\n",
    "\n",
    "\n",
    "\n",
    " You can use the `len()` function to get the length of a string."
   ]
  },
  {
   "cell_type": "code",
   "execution_count": null,
   "metadata": {},
   "outputs": [],
   "source": [
    "# strings are represented using single or double quotes\n",
    "first_name = \"Adam\" \n",
    "last_name = 'Eve'\n",
    "\n",
    "# \\ is used to escape characters\n",
    "middle_name = 'zero\\'s'\n",
    "\n",
    "# string concatenation\n",
    "full_name = first_name +' ' + middle_name + ' ' + last_name\n",
    "\n",
    "print(f\"Full name is {full_name}\")\n",
    "print(f\"Full name is of type {type(full_name)}\")\n",
    "\n",
    "# length of string\n",
    "length = len(full_name)\n",
    "print(f\"Length of full name is {length}\")\n"
   ]
  },
  {
   "cell_type": "markdown",
   "metadata": {},
   "source": [
    " Strings can be indexed and sliced similar to lists and tuples.\n",
    "\n",
    " List indexing is discussed in the list section"
   ]
  },
  {
   "cell_type": "markdown",
   "metadata": {},
   "source": [
    " You can 'multiply' a string by an integer to repeat it."
   ]
  },
  {
   "cell_type": "code",
   "execution_count": null,
   "metadata": {},
   "outputs": [],
   "source": [
    "repeated_string = \"Hello \" * 10\n",
    "\n",
    "print(f\"repeated_string is {repeated_string}\")\n"
   ]
  },
  {
   "cell_type": "markdown",
   "metadata": {},
   "source": [
    " Some characters have special meanings in strings. For example, `\\n` represents a newline character, and `\\t` represents a tab character. You can use `r` before the string to treat it as a raw string, ignoring special characters.\n",
    "\n"
   ]
  },
  {
   "cell_type": "code",
   "execution_count": null,
   "metadata": {},
   "outputs": [],
   "source": [
    "# characters with special meaning\n",
    "# \\n - newline\n",
    "# \\t - tab\n",
    "# \\\\ - backslash\n",
    "# examples\n",
    "print(\"Hello\\nWorld\")\n",
    "print(\"Hello\\tWorld\")\n",
    "print(\"Hello\\\\World\")\n"
   ]
  },
  {
   "cell_type": "markdown",
   "metadata": {},
   "source": [
    " Casting is the process of converting one data type to another. You can cast strings to integers or floats, and vice versa. For example, you can convert a string to an integer using `int(\"5\")`."
   ]
  },
  {
   "cell_type": "code",
   "execution_count": null,
   "metadata": {},
   "outputs": [],
   "source": [
    "# casting str to int  \n",
    "total = int('1') + int('2')\n",
    "print(f\"The value of total is {total} and it is of type {type(total)}\")\n",
    "\n",
    "# casting int to str\n",
    "total = str(1) + str(2)\n",
    "print(f\"The value of total is {total} and it is of type {type(total)}\")\n"
   ]
  },
  {
   "cell_type": "code",
   "execution_count": null,
   "metadata": {},
   "outputs": [],
   "source": [
    "# empty string is considered as False\n",
    "empty_string = ''\n",
    "bool(empty_string)\n"
   ]
  },
  {
   "cell_type": "markdown",
   "metadata": {},
   "source": [
    " To replace a part of a string, you can use the `replace()` method. To split a string into a list of substrings, you can use the `split()` method."
   ]
  },
  {
   "cell_type": "code",
   "execution_count": null,
   "metadata": {},
   "outputs": [],
   "source": [
    "# replace method\n",
    "s = \"Hello, World!\"\n",
    "s = s.replace(\"World\", \"Universe\")\n",
    "print(s)\n"
   ]
  },
  {
   "cell_type": "markdown",
   "metadata": {},
   "source": [
    " Note that the result of the f-string composition is a string."
   ]
  },
  {
   "cell_type": "code",
   "execution_count": null,
   "metadata": {},
   "outputs": [],
   "source": [
    "# f-string composition is a string\n",
    "helloworld = f\"Hello, World!\"\n",
    "full_sentence = f\"This is a full sentence. {helloworld} and it is of type {type(helloworld)}\"\n",
    "print(full_sentence)\n"
   ]
  },
  {
   "cell_type": "markdown",
   "metadata": {},
   "source": [
    " **Q:** Create a sentence about the weather using variables for the temperature and the weather condition.\n",
    " - Print the sentence\n",
    " - Example: \"The temperature is 25 degrees and it is sunny.\"\n",
    " - Then use replace to change the weather condition to \"cloudy\" and print the new sentence."
   ]
  },
  {
   "cell_type": "code",
   "execution_count": null,
   "metadata": {},
   "outputs": [],
   "source": [
    "# TODO: Write your code here\n"
   ]
  },
  {
   "cell_type": "markdown",
   "metadata": {},
   "source": [
    " ### 1.4 Lists and Tuples\n",
    "\n",
    " Lists are collections of items that are ordered and **changeable**. Tuples are collections of items that are ordered and **unchangeable**.\n",
    "\n",
    "\n",
    "\n",
    " They can contain any type of object, even other lists or tuples. They can be used for instance to store a sequence of numbers, strings, or a mix of both."
   ]
  },
  {
   "cell_type": "code",
   "execution_count": null,
   "metadata": {},
   "outputs": [],
   "source": [
    "# Arrays are implemented as lists in python\n",
    "\n",
    "# creating empty list\n",
    "names = []\n",
    "names = list()\n",
    "\n",
    "# list of strings\n",
    "names = ['Zach', 'Jay']\n",
    "print(names)\n",
    "\n",
    "# list of intergers\n",
    "nums = [1, 2, 3, 4, 5]\n",
    "print(nums)\n",
    "\n",
    "# list of different data types\n",
    "l = ['Zach', 1, True, None]\n",
    "print(l)\n",
    "\n",
    "# list of lists\n",
    "ll = [[1, 3], [2, 3], [3, 4]]\n",
    "\n",
    "# finding the length of list\n",
    "length = len(l)\n",
    "print(length)\n"
   ]
  },
  {
   "cell_type": "markdown",
   "metadata": {},
   "source": [
    " You can repeat a list or tuple by multiplying it by an integer."
   ]
  },
  {
   "cell_type": "code",
   "execution_count": null,
   "metadata": {},
   "outputs": [],
   "source": [
    "# You can repeat a list or tuple by multiplying it by an integer.\n",
    "l = [1, 2, 3] * 3\n",
    "print(l)\n",
    "\n",
    "t = (1, 2, 3) * 3\n",
    "print(t)\n"
   ]
  },
  {
   "cell_type": "markdown",
   "metadata": {},
   "source": [
    " You can change the content of a list by assigning new values to its elements. You can also add elements to a list using the `append()` method or extend a list with another list using the `extend()` method."
   ]
  },
  {
   "cell_type": "code",
   "execution_count": null,
   "metadata": {},
   "outputs": [],
   "source": [
    "# Lists are mutable\n",
    "\n",
    "names = names + ['Ravi']\n",
    "names.append('Richard')\n",
    "names.extend(['Abi', 'Kevin'])\n",
    "print(names)\n"
   ]
  },
  {
   "cell_type": "markdown",
   "metadata": {},
   "source": [
    " An element or a subset of a list can be accessed using element's index or slice of indices.\n",
    "\n",
    " The same notation applies for strings but at the character level."
   ]
  },
  {
   "cell_type": "code",
   "execution_count": null,
   "metadata": {},
   "outputs": [],
   "source": [
    "# some_list[index]\n",
    "# some_list[start_index: end_index(not included)]\n",
    "\n",
    "numbers = [0, 1, 2, 3, 4, 5, 6]\n",
    "\n",
    "# indices start from 0 in python\n",
    "print(f'The first element in numbers is {numbers[0]}')\n",
    "print(f'The third element in numbers is {numbers[2]}')\n",
    "\n",
    "print(f'Elements from 1st to 5th index are {numbers[1:6]}')\n",
    "print(f'Elements from start to 5th index are {numbers[:6]}')\n",
    "print(f'Elements from 4th index to end are {numbers[4:]}')\n",
    "\n",
    "print(f'Last Element is {numbers[-1]}')\n",
    "print(f'Last four element are {numbers[-4:]}')\n",
    "\n",
    "# changing 1st element in the numbers list\n",
    "numbers[0] = 100\n",
    "print(numbers)\n",
    "\n",
    "# changing first 3 numbers\n",
    "numbers[0: 3] = [100, 200, 300]\n",
    "print(numbers)\n"
   ]
  },
  {
   "cell_type": "markdown",
   "metadata": {},
   "source": [
    " **Q:** Define a list of four items representing your favorite hobbies/activities.\n",
    " - Print only the second and third items using list slicing."
   ]
  },
  {
   "cell_type": "code",
   "execution_count": 1,
   "metadata": {},
   "outputs": [],
   "source": [
    "# TODO: Write your code here\n"
   ]
  },
  {
   "cell_type": "markdown",
   "metadata": {},
   "source": [
    " On the other hand, tuples are immutable, meaning that you cannot change the content of a tuple once it is created."
   ]
  },
  {
   "cell_type": "code",
   "execution_count": null,
   "metadata": {},
   "outputs": [],
   "source": [
    "# Tuples are immutable lists. They are created using () instead of [].\n",
    "\n",
    "names = tuple()\n",
    "names = ('Zach', 'Jay') \n",
    "print(names[0])\n",
    "\n",
    "# trying to alter the tuple gives an error\n",
    "names[0] = 'Richard'\n",
    "\n",
    "# similar to tuples, strings are also immutable\n"
   ]
  },
  {
   "cell_type": "code",
   "execution_count": null,
   "metadata": {},
   "outputs": [],
   "source": [
    "# empty lists and tuples are considered as False\n",
    "emptyList = []\n",
    "emptyTuple = ()\n",
    "print(f\"emptyList is {bool(emptyList)} and emptyTuple is {bool(emptyTuple)}\")"
   ]
  },
  {
   "cell_type": "markdown",
   "metadata": {},
   "source": [
    " The `split()` method can be used to split a string into a list of substrings. By default, it splits the string by spaces, but you can specify a different separator."
   ]
  },
  {
   "cell_type": "code",
   "execution_count": null,
   "metadata": {},
   "outputs": [],
   "source": [
    "# split method\n",
    "s = \"Hello, World!\"\n",
    "words = s.split()\n",
    "print(words)\n",
    "\n",
    "# split with a different separator\n",
    "s = \"apple,banana,orange\"\n",
    "fruits = s.split(',')\n",
    "print(fruits)\n"
   ]
  },
  {
   "cell_type": "markdown",
   "metadata": {},
   "source": [
    " You can use the `join()` method to concatenate a list of strings into a single string."
   ]
  },
  {
   "cell_type": "code",
   "execution_count": null,
   "metadata": {},
   "outputs": [],
   "source": [
    "# join method\n",
    "words = ['Hello', 'World']\n",
    "s = ' '.join(words)\n",
    "print(s)\n"
   ]
  },
  {
   "cell_type": "markdown",
   "metadata": {},
   "source": [
    " **Q:** See what happens when you try to change the content of a tuple.\n",
    " - Since you cannot change the content of a tuple, you need to create a new tuple with the new content.\n",
    " - Create a new tuple with 3 elements based on the first three elements of the tuple you defined above."
   ]
  },
  {
   "cell_type": "code",
   "execution_count": null,
   "metadata": {},
   "outputs": [],
   "source": [
    "# TODO: Write your code here\n"
   ]
  },
  {
   "cell_type": "markdown",
   "metadata": {},
   "source": [
    " ### 1.5 Dictionary\n",
    "\n",
    " Dictionary is a collection of key-value pairs. It is unordered, changeable and indexed. Dictionaries are written with curly brackets, and have keys and values.\n",
    "\n",
    "\n",
    "\n",
    " They can be used for example to associate a name with a phone number.\n",
    "\n"
   ]
  },
  {
   "cell_type": "code",
   "execution_count": null,
   "metadata": {},
   "outputs": [],
   "source": [
    "# hash maps in python are called Dictionaries\n",
    "# dict{key: value}\n",
    "\n",
    "# Empty dictionary\n",
    "phonebook = dict()\n",
    "\n",
    "# contruction dict using sequences of key-value pairs\n",
    "dict([('sape', 4139), ('guido', 4127), ('jack', 4098)])\n",
    "\n",
    "# Dictionary with one item\n",
    "phonebook = {'jack': 4098}\n",
    "\n",
    "# Add another item\n",
    "phonebook['guido'] = 4127\n",
    "\n",
    "print(phonebook)\n",
    "print(phonebook['jack'])\n",
    "print(phonebook.items())\n",
    "print(phonebook.keys())\n",
    "print(phonebook.values())\n",
    "\n",
    "print('jack' in phonebook)\n",
    "print('Kevin' in phonebook)\n",
    "\n",
    "# Delete an item\n",
    "del phonebook['jack'] \n",
    "print(phonebook)\n"
   ]
  },
  {
   "cell_type": "code",
   "execution_count": null,
   "metadata": {},
   "outputs": [],
   "source": [
    "# An empty dictionary is considered as False\n",
    "emptyDict = {}\n",
    "print(f\"emptyDict is {bool(emptyDict)}\")\n"
   ]
  },
  {
   "cell_type": "markdown",
   "metadata": {},
   "source": [
    " **Q:** Define a dictionary where the keys are the names of the planets and the values are their positions relative to the Sun (like 3 for Earth).\n",
    " - Print the dictionary."
   ]
  },
  {
   "cell_type": "code",
   "execution_count": null,
   "metadata": {},
   "outputs": [],
   "source": [
    "# TODO: Write your code here\n"
   ]
  },
  {
   "cell_type": "markdown",
   "metadata": {},
   "source": [
    " ### 1.6 Sets\n",
    "\n",
    " Sets are unordered collections of unique elements. They are used to store multiple items in a single variable. Sets are written with curly brackets.\n",
    "\n"
   ]
  },
  {
   "cell_type": "code",
   "execution_count": null,
   "metadata": {},
   "outputs": [],
   "source": [
    "# Sets are unordered collection of unique elements\n",
    "# Sets are mutable\n",
    "\n",
    "# Empty set\n",
    "s = set()\n",
    "\n",
    "# set of integers\n",
    "s = {1, 2, 3, 4, 5}\n",
    "print(f\"The set is {s}\")\n",
    "\n",
    "# set of mixed data types\n",
    "s = {1, 2.0, 'three'}\n",
    "print(f\"The set is {s}\")\n",
    "\n",
    "# set of tuples\n",
    "s = {('a', 'b'), ('c', 'd')}\n",
    "print(f\"The set is {s}\")\n",
    "\n",
    "# set operations\n",
    "s1 = {1, 2, 3, 4, 5}\n",
    "s2 = {4, 5, 6, 7, 8}\n",
    "\n",
    "print(f\"s1 is {s1}\")\n",
    "print(f\"s2 is {s2}\")\n",
    "\n",
    "# Union\n",
    "s3 = s1 | s2\n",
    "print(f\"Union of s1 and s2 is {s3}\")\n",
    "\n",
    "# Intersection\n",
    "s3 = s1 & s2\n",
    "print(f\"Intersection of s1 and s2 is {s3}\")\n",
    "\n",
    "# Difference\n",
    "s3 = s1 - s2\n",
    "print(f\"Difference of s1 and s2 is {s3}\")\n",
    "\n",
    "# Symmetric Difference\n",
    "s3 = s1 ^ s2\n",
    "print(f\"Symmetric Difference of s1 and s2 is {s3}\")\n",
    "\n",
    "# Empty set is considered as False\n",
    "emptySet = set()\n",
    "print(f\"emptySet is {bool(emptySet)}\")\n"
   ]
  },
  {
   "cell_type": "markdown",
   "metadata": {},
   "source": [
    " **Q:** Define two sets of strings with some common elements and some unique elements.\n",
    " - Perform the following operations on the sets:\n",
    "    - Union\n",
    "    - Intersection\n",
    "    - Difference\n",
    "\n",
    " - Print the results."
   ]
  },
  {
   "cell_type": "code",
   "execution_count": 21,
   "metadata": {},
   "outputs": [],
   "source": [
    "# TODO: Write your code here"
   ]
  },
  {
   "cell_type": "markdown",
   "metadata": {},
   "source": [
    " ## 2. Flow control statements"
   ]
  },
  {
   "cell_type": "markdown",
   "metadata": {},
   "source": [
    " Flow control statements are used to control the flow of a program. They include `if`, `elif`, and `else` statements, `for` and `while` loops, and `break` and `continue` statements.\n",
    "\n",
    "\n",
    "\n",
    " Differently from other programming languages, Python uses **indentation** to define code blocks. The code block following an `if`, `elif`, `else`, `for`, or `while` statement must be indented.\n",
    "\n",
    "\n",
    "\n",
    " > **IMPORTANT**: The standard indentation is 4 spaces. Always use the same number of spaces for indentation in the same block of code. Avoid using tabs for indentation. Most of the code editors are configured to automatically convert tabs to spaces."
   ]
  },
  {
   "cell_type": "markdown",
   "metadata": {},
   "source": [
    " ### 2.1 if... elif... else...\n",
    "\n",
    " The `if` statement is used to test a condition. If the condition is true, the code block following the `if` statement is executed. The `elif` statement is used to test multiple conditions. If the condition is true, the code block following the `elif` statement is executed. The `else` statement is used to execute a block of code if the condition is false.\n",
    "\n",
    "\n",
    "\n",
    " For instance, this is needed if you want to check if a number is positive, negative, or zero and then decide what to do based on the result."
   ]
  },
  {
   "cell_type": "code",
   "execution_count": null,
   "metadata": {},
   "outputs": [],
   "source": [
    "# if expr1:\n",
    "#     code1\n",
    "# elif expr2:\n",
    "#     code2\n",
    "#   .\n",
    "#   .\n",
    "#   .\n",
    "#   .\n",
    "# else:\n",
    "#     code_n\n",
    "\n",
    "# code1 is executed if expr1 is evaluated to true. Else it moves to expr2 and checks for true \n",
    "# condition and moves to the next if not true. \n",
    "# Finally if all the excpression's are false, code_n is executed\n",
    "\n",
    "x = int(input(\"Please enter an integer: \"))\n",
    "\n",
    "if x < 0:\n",
    "    x = 0\n",
    "    print('Negative changed to zero')\n",
    "elif x == 0:\n",
    "    print('Zero')\n",
    "elif x == 1:\n",
    "    print('Single')\n",
    "else:\n",
    "    print('More')\n"
   ]
  },
  {
   "cell_type": "markdown",
   "metadata": {},
   "source": [
    " **Q:** Prompt the user to input a number and use an if-elif-else statement to check if the number is negative, zero, or positive.\n",
    "  - Print an appropriate message in each case."
   ]
  },
  {
   "cell_type": "code",
   "execution_count": null,
   "metadata": {},
   "outputs": [],
   "source": [
    "# TODO: Write your code here\n"
   ]
  },
  {
   "cell_type": "markdown",
   "metadata": {},
   "source": [
    " If statements can be used in conjunction with comparison operators to create more complex conditions."
   ]
  },
  {
   "cell_type": "code",
   "execution_count": null,
   "metadata": {},
   "outputs": [],
   "source": [
    "x = int(input(\"Please enter an integer: \"))\n",
    "\n",
    "if x > 0 and x < 10:\n",
    "    print(f'x={x} is a positive single digit number')\n",
    "else:\n",
    "    print(f'x={x} is not a positive single digit number')\n"
   ]
  },
  {
   "cell_type": "markdown",
   "metadata": {},
   "source": [
    " ### 2.2 For loops\n",
    "\n",
    " A `for` loop is used for iterating over a sequence (that is either a list, a tuple, a dictionary, a set, or a string).\n",
    "\n",
    "\n",
    "\n",
    " In general, loops are used to repeat a block of code multiple times. The `for` loop iterates over a sequence of elements, such as a list or a tuple. The `for` loop can also iterate over a string, which is a sequence of characters."
   ]
  },
  {
   "cell_type": "code",
   "execution_count": null,
   "metadata": {},
   "outputs": [],
   "source": [
    "# for loop is used to iter over any iterable object\n",
    "\n",
    "# iterating over list\n",
    "for name in ['Steve', 'Jill', 'Venus']:\n",
    "    print(name)\n"
   ]
  },
  {
   "cell_type": "markdown",
   "metadata": {},
   "source": [
    " You can iterate over every character in a string."
   ]
  },
  {
   "cell_type": "code",
   "execution_count": null,
   "metadata": {},
   "outputs": [],
   "source": [
    "# iterating over string\n",
    "for char in \"Hellooooo\":\n",
    "    print(char)\n"
   ]
  },
  {
   "cell_type": "markdown",
   "metadata": {},
   "source": [
    " To iterate over dictionary keys and values, you can use the `items()` method. The for loop can deal with multiple variables."
   ]
  },
  {
   "cell_type": "code",
   "execution_count": null,
   "metadata": {},
   "outputs": [],
   "source": [
    "# iterating over dict keys\n",
    "phone_nos = {\"Henry\": 6091237458,\n",
    "             \"James\": 1234556789, \n",
    "             \"Larry\": 5698327549, \n",
    "             \"Rocky\": 8593876589}\n",
    "\n",
    "for name, no in phone_nos.items(): # items() returns a list of tuples\n",
    "    print(f\"{name}: {no}\")\n",
    "\n"
   ]
  },
  {
   "cell_type": "markdown",
   "metadata": {},
   "source": [
    " To iterate over a sequence of numbers we use `range()` function.\n",
    "\n",
    " The `range()` function generates a sequence of numbers. It can take one, two, or three parameters. For example, `range(5)` generates a sequence of numbers from 0 to 4."
   ]
  },
  {
   "cell_type": "code",
   "execution_count": null,
   "metadata": {},
   "outputs": [],
   "source": [
    "for i in range(5):\n",
    "    print(i)\n"
   ]
  },
  {
   "cell_type": "markdown",
   "metadata": {},
   "source": [
    " However, if you want to iterate over a sequence of numbers with a different starting point, you can use `range(start, stop, step)`. For example, `range(2, 10, 2)` generates a sequence of numbers from 2 to 20 with a step of 2:"
   ]
  },
  {
   "cell_type": "code",
   "execution_count": null,
   "metadata": {},
   "outputs": [],
   "source": [
    "\n",
    "for i in range(2, 20, 2):\n",
    "    print(i)\n"
   ]
  },
  {
   "cell_type": "markdown",
   "metadata": {},
   "source": [
    " You can use the len() function to get the length of a list or a string and use it in the range() function."
   ]
  },
  {
   "cell_type": "code",
   "execution_count": null,
   "metadata": {},
   "outputs": [],
   "source": [
    "# using len of list/tuple in range\n",
    "names = ['Steve', 'Rock', 'Harry']\n",
    "for i in range(len(names)):\n",
    "    print(names[i])\n"
   ]
  },
  {
   "cell_type": "markdown",
   "metadata": {},
   "source": [
    " Alternatively, if you want to have both the element in a sequences as well as an index, you can use the `enumerate()` function."
   ]
  },
  {
   "cell_type": "code",
   "execution_count": null,
   "metadata": {},
   "outputs": [],
   "source": [
    "# using len of list/tuple in range\n",
    "names = ['Steve', 'Rock', 'Harry']\n",
    "for i in range(len(names)):\n",
    "    print(f\"{i}: {names[i]}\")\n"
   ]
  },
  {
   "cell_type": "markdown",
   "metadata": {},
   "source": [
    " **Q:** Using a for loop, print the square of each number in range(1, 6)."
   ]
  },
  {
   "cell_type": "code",
   "execution_count": null,
   "metadata": {},
   "outputs": [],
   "source": [
    "# TODO: Write your code here\n"
   ]
  },
  {
   "cell_type": "markdown",
   "metadata": {},
   "source": [
    " #### 2.3 While Loop\n",
    "\n",
    " With the `while` loop we can execute a set of statements as long as a condition is true."
   ]
  },
  {
   "cell_type": "code",
   "execution_count": null,
   "metadata": {},
   "outputs": [],
   "source": [
    "# While loop executes as long as the condition remains true.\n",
    "# while cond1:\n",
    "#     pass\n",
    "\n",
    "i = 0\n",
    "while i < 10:\n",
    "    print(i)\n",
    "    i += 1\n"
   ]
  },
  {
   "cell_type": "markdown",
   "metadata": {},
   "source": [
    " Forever loop: The below code runs for ever (don't run it)"
   ]
  },
  {
   "cell_type": "code",
   "execution_count": null,
   "metadata": {},
   "outputs": [],
   "source": [
    "# while True:\n",
    "#     print('Forever...')\n"
   ]
  },
  {
   "cell_type": "markdown",
   "metadata": {},
   "source": [
    " #### 2.4 Break, Continue and Pass statements\n",
    "\n",
    " `break` statement is used to exit a loop when a condition is met. `continue` statement is used to skip the current block and return to the `for` or `while` statement. `pass` statement is used as a placeholder for future code."
   ]
  },
  {
   "cell_type": "code",
   "execution_count": null,
   "metadata": {},
   "outputs": [],
   "source": [
    "# break statement breaks out of the the loop\n",
    "while True:\n",
    "    print('We’re stuck in a loop...')\n",
    "    break # Break out of the while loop\n",
    "print(\"not!\")\n"
   ]
  },
  {
   "cell_type": "markdown",
   "metadata": {},
   "source": [
    " You can skip the current iteration without exiting the loop by using the `continue` statement."
   ]
  },
  {
   "cell_type": "code",
   "execution_count": null,
   "metadata": {},
   "outputs": [],
   "source": [
    "# continue statement skips a loop\n",
    "for i in range(5):\n",
    "    continue \n",
    "    print(i)\n"
   ]
  },
  {
   "cell_type": "markdown",
   "metadata": {},
   "source": [
    " This is more usefult when you have a condition to skip the current iteration but you don't want to exit the loop. For instance, you can skip the iteration if the number is even."
   ]
  },
  {
   "cell_type": "code",
   "execution_count": null,
   "metadata": {},
   "outputs": [],
   "source": [
    "for i in range(10):\n",
    "    if i % 2 == 0: # Calculate the remainder of i divided by 2 and check if it is 0\n",
    "        continue\n",
    "    print(i)\n"
   ]
  },
  {
   "cell_type": "markdown",
   "metadata": {},
   "source": [
    " The `pass` statement is used as a placeholder for future code. When the `pass` statement is executed, nothing happens, but you avoid getting an error. It allows you to write minimal code structure without causing issues during execution, which is helpful in situations where code needs to be developed incrementally."
   ]
  },
  {
   "cell_type": "code",
   "execution_count": null,
   "metadata": {},
   "outputs": [],
   "source": [
    "for i in range(10):\n",
    "    pass\n"
   ]
  },
  {
   "cell_type": "markdown",
   "metadata": {},
   "source": [
    " **Q:** Ask the user for an input, print that input, and then print the input in reverse.\n",
    " - Use a while loop to repeat this process until the user inputs 'quit'."
   ]
  },
  {
   "cell_type": "code",
   "execution_count": null,
   "metadata": {},
   "outputs": [],
   "source": [
    "# TODO: Write your code here\n"
   ]
  },
  {
   "cell_type": "markdown",
   "metadata": {},
   "source": [
    " ## 3. References to other resources\n",
    "\n",
    " You can find more info in the Python documentation or in other tutorials.\n",
    "\n",
    "\n",
    "\n",
    "  - [Python Documentation](https://docs.python.org/3/)\n",
    "\n",
    "  - [Python Tutorial](https://docs.python.org/3/tutorial/index.html)"
   ]
  },
  {
   "cell_type": "markdown",
   "metadata": {},
   "source": []
  }
 ],
 "metadata": {
  "kernelspec": {
   "display_name": "networks",
   "language": "python",
   "name": "python3"
  },
  "language_info": {
   "codemirror_mode": {
    "name": "ipython",
    "version": 3
   },
   "file_extension": ".py",
   "mimetype": "text/x-python",
   "name": "python",
   "nbconvert_exporter": "python",
   "pygments_lexer": "ipython3",
   "version": "3.8.13"
  }
 },
 "nbformat": 4,
 "nbformat_minor": 2
}
