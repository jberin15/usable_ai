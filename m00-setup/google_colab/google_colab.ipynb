{
 "cells": [
  {
   "cell_type": "markdown",
   "metadata": {},
   "source": [
    "# Google Colab Basics\n",
    "\n",
    "\n",
    "\n",
    "Welcome to the Usable AI course! This notebook will help you get started with Google Colab, an interactive, cloud-based Jupyter environment. If you already have access to some notebooks, simply click on the **Open in Colab** links provided in your course materials. This is one of the options for running the course notebooks."
   ]
  },
  {
   "cell_type": "markdown",
   "metadata": {},
   "source": [
    "### Using Google Colab\n",
    "\n",
    "\n",
    "\n",
    "One option for this course is to use [Google Colab](https://colab.research.google.com/). \n",
    "\n",
    "\n",
    "\n",
    "Google Colab allows you to write and execute Python code on remote servers. This means:\n",
    "\n",
    "- No need to install Python or any libraries on your local machine.\n",
    "\n",
    "- Access to powerful computing resources directly from the browser.\n",
    "\n",
    "- Easy collaboration by sharing notebooks with peers.\n",
    "\n",
    "\n",
    "\n",
    "\n",
    "\n",
    "While Google Colab offers a convenient cloud-based environment, keep in mind the following limitations:\n",
    "\n",
    "- Sessions are temporary and may disconnect after a period of inactivity.\n",
    "\n",
    "- There are restrictions on GPU/TPU usage and RAM.\n",
    "\n",
    "- The runtime environment resets after disconnecting, which means unsaved work is lost.\n",
    "\n",
    "- Dependency management can be challenging if specific package versions are required.\n",
    "\n",
    "- You always need to install and import the necessary libraries at the beginning of each notebook.\n",
    "\n",
    "\n",
    "\n",
    "For more details, check out the [Google Colab Documentation](https://research.google.com/colaboratory)."
   ]
  },
  {
   "cell_type": "markdown",
   "metadata": {},
   "source": [
    "## 1. Setting Up the Colab Environment\n",
    "\n",
    "\n",
    "\n",
    "To begin:\n",
    "\n",
    "- Open your Colab notebook from [Google Colab](https://colab.research.google.com/).\n",
    "\n",
    "- You can also use the **Open in Colab** button provided by your course materials.\n",
    "\n",
    "- Once your notebook opens, you'll see this guide and can start running cells immediately."
   ]
  },
  {
   "cell_type": "markdown",
   "metadata": {},
   "source": [
    "## 2. Mounting Google Drive\n",
    "\n",
    "\n",
    "\n",
    "Many datasets in this course are stored on Google Drive. The cell below shows how to mount your drive:\n",
    "\n",
    "\n",
    "\n",
    "1. Run the cell.\n",
    "\n",
    "2. Click on the link that appears.\n",
    "\n",
    "3. Log into your Google account and authorize the access.\n",
    "\n",
    "4. Copy and paste the provided authorization code back into the notebook."
   ]
  },
  {
   "cell_type": "code",
   "execution_count": null,
   "metadata": {},
   "outputs": [],
   "source": [
    "from google.colab import drive\n",
    "import pandas as pd\n",
    "\n",
    "drive.mount('/content/drive')"
   ]
  },
  {
   "cell_type": "markdown",
   "metadata": {},
   "source": [
    "## 3. Importing Data from Google Drive\n",
    "\n",
    "\n",
    "\n",
    "After mounting your drive, you can access your data files. For example, to load a CSV file called `dataset.csv` located in `MyDrive/data/`, update the file path accordingly and run the cell below.\n",
    "\n",
    "\n",
    "\n",
    "This example includes a simple error handling block in case the file isn't found."
   ]
  },
  {
   "cell_type": "code",
   "execution_count": null,
   "metadata": {},
   "outputs": [],
   "source": [
    "# Update the file path as necessary\n",
    "file_path = '/content/drive/MyDrive/data/dataset.csv'\n",
    "\n",
    "try:\n",
    "    df = pd.read_csv(file_path)\n",
    "    print(\"Data loaded successfully. Here are the first few rows:\")\n",
    "    print(df.head())\n",
    "except FileNotFoundError:\n",
    "    print(f\"Error: The file at {file_path} was not found. Please verify the path.\")\n",
    "except Exception as e:\n",
    "    print(\"An error occurred while loading the file:\", str(e))"
   ]
  },
  {
   "cell_type": "markdown",
   "metadata": {},
   "source": [
    "## 4. Installing Libraries\n",
    "\n",
    "\n",
    "\n",
    "Google Colab comes with many popular libraries pre-installed. However, if you need to install additional packages, you can do so using `!pip install`.\n",
    "\n",
    "\n",
    "\n",
    "For example, to install the `seaborn` library, run the cell below:\n",
    "\n"
   ]
  },
  {
   "cell_type": "code",
   "execution_count": null,
   "metadata": {},
   "outputs": [],
   "source": [
    "!pip install seaborn"
   ]
  },
  {
   "cell_type": "markdown",
   "metadata": {},
   "source": [
    "### Importing Installed Libraries\n",
    "\n",
    "After installing a library, you can import it in your notebook as usual:"
   ]
  },
  {
   "cell_type": "code",
   "execution_count": null,
   "metadata": {},
   "outputs": [],
   "source": [
    "import seaborn as sns\n",
    "# example usage:\n",
    "sns.lineplot(x=[1, 2, 3, 4], y=[1, 4, 9, 16])"
   ]
  },
  {
   "cell_type": "markdown",
   "metadata": {},
   "source": [
    "## 5. Next Steps\n",
    "\n",
    "\n",
    "\n",
    "Now that you've set up your environment:\n",
    "\n",
    "- Explore the notebooks provided in the course.\n",
    "\n",
    "- Try running additional code cells and modifying examples.\n",
    "\n",
    "- Consider experimenting with different datasets and visualizations.\n",
    "\n",
    "- If you encounter issues, refer to the course documentation or ask for help.\n",
    "\n",
    "\n",
    "\n",
    "Enjoy your journey with Usable AI and happy coding!"
   ]
  }
 ],
 "metadata": {
  "kernelspec": {
   "display_name": "networks",
   "language": "python",
   "name": "python3"
  },
  "language_info": {
   "codemirror_mode": {
    "name": "ipython",
    "version": 3
   },
   "file_extension": ".py",
   "mimetype": "text/x-python",
   "name": "python",
   "nbconvert_exporter": "python",
   "pygments_lexer": "ipython3",
   "version": "3.8.13"
  }
 },
 "nbformat": 4,
 "nbformat_minor": 2
}
