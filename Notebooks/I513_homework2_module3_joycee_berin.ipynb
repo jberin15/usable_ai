{
 "cells": [
  {
   "cell_type": "code",
   "execution_count": 20,
   "id": "5d4f44af-5ff8-4367-8e81-c0f13a269666",
   "metadata": {},
   "outputs": [
    {
     "name": "stdout",
     "output_type": "stream",
     "text": [
      "    eName  isPlanet  isDwarfPlanet  semimajorAxis  perihelion  aphelion  \\\n",
      "0    Moon     False          False         384400      363300    405500   \n",
      "1  Phobos     False          False           9376        9234      9518   \n",
      "2  Deimos     False          False          23458       23456     23471   \n",
      "3      Io     False          False         421800           0         0   \n",
      "4  Europa     False          False         671100           0         0   \n",
      "\n",
      "   eccentricity  inclination  density  gravity  ...   orbits  bondAlbido  \\\n",
      "0        0.0549        5.145    3.344   1.6200  ...    Earth         NaN   \n",
      "1        0.0151        1.075    1.900   0.0057  ...     Mars         NaN   \n",
      "2        0.0002        1.075    1.750   0.0030  ...     Mars         NaN   \n",
      "3        0.0040        0.036    3.530   1.7900  ...  Jupiter         NaN   \n",
      "4        0.0090        0.466    3.010   1.3100  ...  Jupiter         NaN   \n",
      "\n",
      "   geomAlbido  RV_abs  p_transit transit_visibility  transit_depth     massj  \\\n",
      "0         NaN     NaN   1.811589         326.086108   2.200000e-09  0.000039   \n",
      "1         NaN     NaN  74.272078       13368.973976   2.200000e-09  0.000000   \n",
      "2         NaN     NaN  29.686035        5343.486231   2.200000e-09  0.000000   \n",
      "3         NaN     NaN   1.655200         297.936060   6.842500e-06  0.000047   \n",
      "4         NaN     NaN   1.039939         187.188949   5.024000e-06  0.000025   \n",
      "\n",
      "  semimajorAxis_AU      grav_int  \n",
      "0         0.002570  6.606324e+25  \n",
      "1         0.000063  1.601437e+22  \n",
      "2         0.000157  5.792534e+20  \n",
      "3         0.002820  6.666188e+25  \n",
      "4         0.004486  1.415488e+25  \n",
      "\n",
      "[5 rows x 32 columns]\n",
      "Index(['eName', 'isPlanet', 'isDwarfPlanet', 'semimajorAxis', 'perihelion',\n",
      "       'aphelion', 'eccentricity', 'inclination', 'density', 'gravity',\n",
      "       'escape', 'meanRadius', 'equaRadius', 'polarRadius', 'flattening',\n",
      "       'dimension', 'sideralOrbit', 'sideralRotation', 'discoveryDate',\n",
      "       'mass_kg', 'volume', 'orbit_type', 'orbits', 'bondAlbido', 'geomAlbido',\n",
      "       'RV_abs', 'p_transit', 'transit_visibility', 'transit_depth', 'massj',\n",
      "       'semimajorAxis_AU', 'grav_int'],\n",
      "      dtype='object')\n"
     ]
    }
   ],
   "source": [
    "import pandas as pd\n",
    "import json\n",
    "\n",
    "# Load dataset into a dataframe\n",
    "with open(\"sol_data.json\", \"r\") as file:\n",
    "    sol_data = json.load(file)\n",
    "    \n",
    "df = pd.DataFrame(sol_data)\n",
    "\n",
    "# preview data\n",
    "print(df.head())\n",
    "\n",
    "# view columns\n",
    "print(df.columns)"
   ]
  },
  {
   "cell_type": "code",
   "execution_count": 28,
   "id": "b2754fea-e1aa-41ad-a038-d51ddc4dc16c",
   "metadata": {},
   "outputs": [
    {
     "name": "stdout",
     "output_type": "stream",
     "text": [
      "Total number of objects =  265\n",
      "\n",
      "Number of planets =  8\n",
      "\n",
      "Number of moons =  205\n"
     ]
    }
   ],
   "source": [
    "# Total number of objects\n",
    "total_objects = len(df)\n",
    "\n",
    "# Number of planets\n",
    "number_planets = df[df[\"isPlanet\"] == True].shape[0]\n",
    "\n",
    "# Number of moons\n",
    "number_moons = df[df[\"orbit_type\"] == \"Secondary\"].shape[0]\n",
    "\n",
    "# Results\n",
    "print(\"Total number of objects = \", total_objects)\n",
    "print(\"\\nNumber of planets = \", number_planets)\n",
    "print(\"\\nNumber of moons = \", number_moons)"
   ]
  },
  {
   "cell_type": "code",
   "execution_count": 29,
   "id": "ab8cb4a0-7f22-48cd-98f8-dd2c46a5c1e9",
   "metadata": {},
   "outputs": [
    {
     "name": "stdout",
     "output_type": "stream",
     "text": [
      "Mean density of all planets =  3.1301375\n",
      "\n",
      "Planet with the highest surface gravity is  Jupiter\n",
      "\n",
      "Planets by descending mass:         eName     massj\n",
      "238  Jupiter  1.000000\n",
      "241   Saturn  0.298947\n",
      "219  Neptune  0.053684\n",
      "199   Uranus  0.045684\n",
      "243    Earth  0.003142\n",
      "244    Venus  0.002563\n",
      "239     Mars  0.000338\n",
      "240  Mercury  0.000174\n"
     ]
    }
   ],
   "source": [
    "# Mean density of all planets\n",
    "mean_density = df[df[\"isPlanet\"] == True][\"density\"].mean()\n",
    "\n",
    "# Planet with the highest surface gravity\n",
    "planets_df = df[df[\"isPlanet\"] == True]\n",
    "\n",
    "planet_hsg = planets_df.loc[planets_df[\"gravity\"].idxmax(), \"eName\"]\n",
    "\n",
    "# Planets by descending mass\n",
    "planets_by_desc_mass = df[df[\"isPlanet\"] == True].sort_values(by=\"massj\", ascending=False)\n",
    "\n",
    "# Results\n",
    "print(\"Mean density of all planets = \", mean_density)\n",
    "print(\"\\nPlanet with the highest surface gravity is \", planet_hsg)\n",
    "print(\"\\nPlanets by descending mass: \", planets_by_desc_mass[[\"eName\", \"massj\"]])"
   ]
  },
  {
   "cell_type": "code",
   "execution_count": 30,
   "id": "d60c9df8-e925-444c-9f82-9b8d36033e0f",
   "metadata": {},
   "outputs": [
    {
     "name": "stdout",
     "output_type": "stream",
     "text": [
      "Number of moons orbiting each planet =  {'Jupiter': 79, 'Saturn': 65, 'Uranus': 27, 'Neptune': 14, 'Pluto': 5, 'Mars': 2, '136108 Haumea': 2, '87 Sylvia': 2, '216 Kleopatra': 2, 'Earth': 1, '136199 Eris': 1, '45 Eugenia': 1, '90482 Orcus': 1, '243 Ida': 1, '50000 Quaoar': 1, '136472 Makemake': 1}\n",
      "\n",
      "Average radius of all moons =  120.96439024390247\n",
      "\n",
      "The average surface gravity of moons is 0.04 while the average surface gravity of planets is 5.97.\n"
     ]
    }
   ],
   "source": [
    "# Number of moons orbiting each planet\n",
    "num_moons_orb_planet = df[df[\"orbit_type\"] == \"Secondary\"][\"orbits\"].value_counts().to_dict()\n",
    "\n",
    "# Average radius of all moons\n",
    "avg_radius_moons = df[df[\"orbit_type\"] == \"Secondary\"][\"meanRadius\"].mean()\n",
    "\n",
    "# Compare average surface gravity of moons vs. planets\n",
    "avg_sg_moons = df[df[\"orbit_type\"] == \"Secondary\"][\"gravity\"].mean()\n",
    "\n",
    "avg_sg_planets = df[df[\"orbit_type\"] == \"Primary\"][\"gravity\"].mean()\n",
    "\n",
    "# Results\n",
    "print(\"Number of moons orbiting each planet = \", num_moons_orb_planet)\n",
    "print(\"\\nAverage radius of all moons = \", avg_radius_moons)\n",
    "print(f\"\\nThe average surface gravity of moons is {avg_sg_moons:.2f}\" \n",
    "      f\" while the average surface gravity of planets is {avg_sg_planets:.2f}.\")"
   ]
  },
  {
   "cell_type": "code",
   "execution_count": 31,
   "id": "6c6876f8-6e19-46f5-8074-175c6be3f033",
   "metadata": {},
   "outputs": [
    {
     "name": "stdout",
     "output_type": "stream",
     "text": [
      "The object with the highest orbital eccentricity is Nereid with a value of 0.75120.\n",
      "\n",
      "The average semi-major axis of planets is 5835556527.35, while the average semi-major axis for moons is 12257587.94.\n",
      "\n",
      "The moon with the shortest orbital period is Ferdinand, which orbits Uranus.\n"
     ]
    }
   ],
   "source": [
    "# Highest orbital eccentricity\n",
    "max_ecc = df.loc[df[\"eccentricity\"].idxmax()]\n",
    "highest_orb_ecc_obj = max_ecc[\"eName\"]\n",
    "highest_orb_ecc_value = max_ecc[\"eccentricity\"]\n",
    "\n",
    "# Average semi-major axis of planets vs. moons\n",
    "avg_sm_axis_planets = df[df[\"orbit_type\"] == \"Primary\"][\"semimajorAxis\"].mean()\n",
    "\n",
    "avg_sm_axis_moons = df[df[\"orbit_type\"] == \"Secondary\"][\"semimajorAxis\"].mean()\n",
    "\n",
    "# Moon with the shortest orbital period\n",
    "shortest_orb_period = df[df[\"orbit_type\"] == \"Secondary\"].loc[df[df[\"orbit_type\"] == \"Secondary\"][\"sideralOrbit\"].idxmin()]\n",
    "shortest_orb_moon = shortest_orb_period[\"eName\"]\n",
    "orbs_planet = shortest_orb_period[\"orbits\"]\n",
    "\n",
    "# Results\n",
    "print(f\"The object with the highest orbital eccentricity is {highest_orb_ecc_obj} with a value of {highest_orb_ecc_value:.5f}.\")\n",
    "print(f\"\\nThe average semi-major axis of planets is {avg_sm_axis_planets:.2f}, \"\n",
    "      f\"while the average semi-major axis for moons is {avg_sm_axis_moons:.2f}.\")\n",
    "print(f\"\\nThe moon with the shortest orbital period is {shortest_orb_moon}, which orbits {orbs_planet}.\")"
   ]
  },
  {
   "cell_type": "code",
   "execution_count": 33,
   "id": "004ca250-f220-4819-a8c9-27a270ce44e0",
   "metadata": {},
   "outputs": [
    {
     "name": "stdout",
     "output_type": "stream",
     "text": [
      "The number of objects with recorded discovery dates = 256\n",
      "\n",
      "The oldest discovered moon is Hegemone, discovered in 2003.\n"
     ]
    }
   ],
   "source": [
    "# Objects with discovery dates\n",
    "objs_w_disc_dates = df[\"discoveryDate\"].notna().sum()\n",
    "\n",
    "# Oldest discovered moon\n",
    "objs_w_disc_dates = df[\"discoveryDate\"].notna().sum()\n",
    "\n",
    "moons_w_dates = df[(df[\"orbit_type\"] == \"Secondary\") & (df[\"eName\"] != \"Moon\") & df[\"discoveryDate\"].notna()].copy()\n",
    "\n",
    "moons_w_dates.loc[:, \"discoveryDate\"] = pd.to_numeric(moons_w_dates[\"discoveryDate\"], errors=\"coerce\")\n",
    "\n",
    "oldest_disc_moon_row = moons_w_dates.loc[moons_w_dates[\"discoveryDate\"].idxmin()]\n",
    "oldest_disc_moon = oldest_disc_moon_row[\"eName\"]\n",
    "oldest_disc_date = int(oldest_disc_moon_row[\"discoveryDate\"])\n",
    "\n",
    "# Results\n",
    "print(f\"The number of objects with recorded discovery dates = {objs_w_disc_dates}\")\n",
    "print(f\"\\nThe oldest discovered moon is {oldest_disc_moon}, discovered in {oldest_disc_date}.\")"
   ]
  },
  {
   "cell_type": "code",
   "execution_count": 34,
   "id": "78d02641-df71-467b-9d37-87042142e84e",
   "metadata": {},
   "outputs": [
    {
     "name": "stdout",
     "output_type": "stream",
     "text": [
      "Average density of moons orbiting planets with mass > Earth's = 1.06\n",
      "\n",
      "Average orbital eccentricity by orbit_type = orbit_type\n",
      "Primary      0.026622\n",
      "Secondary    0.182512\n",
      "Name: eccentricity, dtype: float64\n",
      "\n",
      "Top 3 moons with the highest escape velocity are     eName    escape\n",
      "0    Moon  2380.000\n",
      "1  Phobos    11.390\n",
      "2  Deimos     5.556\n"
     ]
    }
   ],
   "source": [
    "# Average density of moons orbiting planets with mass > Earth\n",
    "mass_threshold = 5.97e24\n",
    "\n",
    "massive_planets = df[(df[\"isPlanet\"] == True) & (df[\"mass_kg\"] > mass_threshold)][\"eName\"]\n",
    "\n",
    "moons_orb_massive_planets = df[(df[\"orbit_type\"] == \"Secondary\") & (df[\"orbits\"].isin(massive_planets))]\n",
    "\n",
    "avg_dens_moons_massive_planets = moons_orb_massive_planets[\"density\"].mean()\n",
    "\n",
    "# Average orbital eccentricity by orbit_type\n",
    "avg_ecc_by_orb_type = df.groupby(\"orbit_type\")[\"eccentricity\"].mean()\n",
    "\n",
    "# Top 3 moons with highest escape velocity\n",
    "top_3_esc_vel_moons = df[df[\"orbit_type\"] == \"Secondary\"].nlargest(3, \"escape\")[[\"eName\", \"escape\"]]\n",
    "\n",
    "# Results\n",
    "print(f\"Average density of moons orbiting planets with mass > Earth's = {avg_dens_moons_massive_planets:.2f}\")\n",
    "print(f\"\\nAverage orbital eccentricity by orbit_type = {avg_ecc_by_orb_type}\")\n",
    "print(f\"\\nTop 3 moons with the highest escape velocity are {top_3_esc_vel_moons}\")"
   ]
  },
  {
   "cell_type": "code",
   "execution_count": 36,
   "id": "0157157a-e8b8-4b01-88af-c1eccad7f49e",
   "metadata": {},
   "outputs": [
    {
     "name": "stdout",
     "output_type": "stream",
     "text": [
      "The number of moons with a mass less than 10% of Earth's moon = 198\n",
      "\n",
      "The percentage of all moons that this represents = 96.59%\n",
      "\n",
      "The planet that hosts moons with the highest average density is Earth\n"
     ]
    }
   ],
   "source": [
    "# Moons with a mass less than Earth's moon and percentage\n",
    "earth_moon_mass = df.loc[df[\"eName\"] == \"Moon\", \"mass_kg\"].values[0]\n",
    "moons_10_perc = df[(df[\"orbit_type\"] == \"Secondary\") & (df[\"mass_kg\"] < 0.1 * earth_moon_mass)]\n",
    "num_moons_10_perc = len(moons_10_perc)\n",
    "total_moons = len(df[df[\"orbit_type\"] == \"Secondary\"])\n",
    "perc_moons = (num_moons_10_perc / total_moons) * 100\n",
    "\n",
    "# Average density of moons per planet\n",
    "avg_moon_dens_per_planet = df[df[\"orbit_type\"] == \"Secondary\"].groupby(\"orbits\")[\"density\"].mean()\n",
    "\n",
    "planet_highest_moon_dens = avg_moon_dens_per_planet.idxmax()\n",
    "\n",
    "# Results\n",
    "print(f\"The number of moons with a mass less than 10% of Earth's moon = {num_moons_10_perc}\")\n",
    "print(f\"\\nThe percentage of all moons that this represents = {perc_moons:.2f}%\")\n",
    "print(f\"\\nThe planet that hosts moons with the highest average density is {planet_highest_moon_dens}.\")"
   ]
  },
  {
   "cell_type": "code",
   "execution_count": null,
   "id": "8f947ff4-0254-4e46-a077-ab27563c58d9",
   "metadata": {},
   "outputs": [],
   "source": []
  }
 ],
 "metadata": {
  "kernelspec": {
   "display_name": "Python 3 (ipykernel)",
   "language": "python",
   "name": "python3"
  },
  "language_info": {
   "codemirror_mode": {
    "name": "ipython",
    "version": 3
   },
   "file_extension": ".py",
   "mimetype": "text/x-python",
   "name": "python",
   "nbconvert_exporter": "python",
   "pygments_lexer": "ipython3",
   "version": "3.9.13"
  }
 },
 "nbformat": 4,
 "nbformat_minor": 5
}
