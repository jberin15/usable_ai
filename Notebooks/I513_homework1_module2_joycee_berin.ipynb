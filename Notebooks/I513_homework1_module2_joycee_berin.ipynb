{
 "cells": [
  {
   "cell_type": "code",
   "execution_count": 1,
   "id": "e2fd41d6-9d9e-405d-b7fd-881d0d85452e",
   "metadata": {},
   "outputs": [],
   "source": [
    "# Import library\n",
    "import os"
   ]
  },
  {
   "cell_type": "code",
   "execution_count": 2,
   "id": "20bbbd57-f1b3-470e-8df9-164106ba81d7",
   "metadata": {},
   "outputs": [
    {
     "name": "stdout",
     "output_type": "stream",
     "text": [
      "C:\\Users\\jberin\\usable_ai\n"
     ]
    }
   ],
   "source": [
    "# Getting the current path and displaying it\n",
    "current_path = os.getcwd()\n",
    "print(current_path)"
   ]
  },
  {
   "cell_type": "code",
   "execution_count": 3,
   "id": "20d4354b-e2cd-4a0f-9977-d72f087b5f78",
   "metadata": {},
   "outputs": [
    {
     "name": "stdout",
     "output_type": "stream",
     "text": [
      "C:\\Users\\jberin\\usable_ai\\Datasets\n"
     ]
    }
   ],
   "source": [
    "# Defining the datasets directory path\n",
    "dataset_path = os.path.join(current_path, \"Datasets\")\n",
    "print(dataset_path)"
   ]
  },
  {
   "cell_type": "code",
   "execution_count": 5,
   "id": "f2d8d881-3dbf-454f-ae0b-f367a1dafe24",
   "metadata": {
    "tags": []
   },
   "outputs": [
    {
     "ename": "UnicodeDecodeError",
     "evalue": "'charmap' codec can't decode byte 0x9d in position 806: character maps to <undefined>",
     "output_type": "error",
     "traceback": [
      "\u001b[1;31m---------------------------------------------------------------------------\u001b[0m",
      "\u001b[1;31mUnicodeDecodeError\u001b[0m                        Traceback (most recent call last)",
      "\u001b[1;32m~\\AppData\\Local\\Temp\\ipykernel_26312\\1992827484.py\u001b[0m in \u001b[0;36m<module>\u001b[1;34m\u001b[0m\n\u001b[0;32m      5\u001b[0m \u001b[1;32mwith\u001b[0m \u001b[0mopen\u001b[0m\u001b[1;33m(\u001b[0m\u001b[0mfile_path\u001b[0m\u001b[1;33m,\u001b[0m \u001b[1;34m\"r\"\u001b[0m\u001b[1;33m)\u001b[0m \u001b[1;32mas\u001b[0m \u001b[0mfp\u001b[0m\u001b[1;33m:\u001b[0m\u001b[1;33m\u001b[0m\u001b[1;33m\u001b[0m\u001b[0m\n\u001b[0;32m      6\u001b[0m     \u001b[1;31m# Fill in the variable that represents the file we are working with\u001b[0m\u001b[1;33m\u001b[0m\u001b[1;33m\u001b[0m\u001b[0m\n\u001b[1;32m----> 7\u001b[1;33m     \u001b[0mcontent\u001b[0m \u001b[1;33m=\u001b[0m \u001b[0mfp\u001b[0m\u001b[1;33m.\u001b[0m\u001b[0mread\u001b[0m\u001b[1;33m(\u001b[0m\u001b[1;33m)\u001b[0m\u001b[1;33m\u001b[0m\u001b[1;33m\u001b[0m\u001b[0m\n\u001b[0m\u001b[0;32m      8\u001b[0m \u001b[1;33m\u001b[0m\u001b[0m\n\u001b[0;32m      9\u001b[0m \u001b[0mprint\u001b[0m\u001b[1;33m(\u001b[0m\u001b[1;34m\"Content of the file:\"\u001b[0m\u001b[1;33m,\u001b[0m\u001b[0mcontent\u001b[0m\u001b[1;33m)\u001b[0m\u001b[1;33m\u001b[0m\u001b[1;33m\u001b[0m\u001b[0m\n",
      "\u001b[1;32m~\\Anaconda3\\lib\\encodings\\cp1252.py\u001b[0m in \u001b[0;36mdecode\u001b[1;34m(self, input, final)\u001b[0m\n\u001b[0;32m     21\u001b[0m \u001b[1;32mclass\u001b[0m \u001b[0mIncrementalDecoder\u001b[0m\u001b[1;33m(\u001b[0m\u001b[0mcodecs\u001b[0m\u001b[1;33m.\u001b[0m\u001b[0mIncrementalDecoder\u001b[0m\u001b[1;33m)\u001b[0m\u001b[1;33m:\u001b[0m\u001b[1;33m\u001b[0m\u001b[1;33m\u001b[0m\u001b[0m\n\u001b[0;32m     22\u001b[0m     \u001b[1;32mdef\u001b[0m \u001b[0mdecode\u001b[0m\u001b[1;33m(\u001b[0m\u001b[0mself\u001b[0m\u001b[1;33m,\u001b[0m \u001b[0minput\u001b[0m\u001b[1;33m,\u001b[0m \u001b[0mfinal\u001b[0m\u001b[1;33m=\u001b[0m\u001b[1;32mFalse\u001b[0m\u001b[1;33m)\u001b[0m\u001b[1;33m:\u001b[0m\u001b[1;33m\u001b[0m\u001b[1;33m\u001b[0m\u001b[0m\n\u001b[1;32m---> 23\u001b[1;33m         \u001b[1;32mreturn\u001b[0m \u001b[0mcodecs\u001b[0m\u001b[1;33m.\u001b[0m\u001b[0mcharmap_decode\u001b[0m\u001b[1;33m(\u001b[0m\u001b[0minput\u001b[0m\u001b[1;33m,\u001b[0m\u001b[0mself\u001b[0m\u001b[1;33m.\u001b[0m\u001b[0merrors\u001b[0m\u001b[1;33m,\u001b[0m\u001b[0mdecoding_table\u001b[0m\u001b[1;33m)\u001b[0m\u001b[1;33m[\u001b[0m\u001b[1;36m0\u001b[0m\u001b[1;33m]\u001b[0m\u001b[1;33m\u001b[0m\u001b[1;33m\u001b[0m\u001b[0m\n\u001b[0m\u001b[0;32m     24\u001b[0m \u001b[1;33m\u001b[0m\u001b[0m\n\u001b[0;32m     25\u001b[0m \u001b[1;32mclass\u001b[0m \u001b[0mStreamWriter\u001b[0m\u001b[1;33m(\u001b[0m\u001b[0mCodec\u001b[0m\u001b[1;33m,\u001b[0m\u001b[0mcodecs\u001b[0m\u001b[1;33m.\u001b[0m\u001b[0mStreamWriter\u001b[0m\u001b[1;33m)\u001b[0m\u001b[1;33m:\u001b[0m\u001b[1;33m\u001b[0m\u001b[1;33m\u001b[0m\u001b[0m\n",
      "\u001b[1;31mUnicodeDecodeError\u001b[0m: 'charmap' codec can't decode byte 0x9d in position 806: character maps to <undefined>"
     ]
    }
   ],
   "source": [
    "# Fill in the stories filename\n",
    "file_path = os.path.join(dataset_path,\"story-1.txt\")\n",
    "\n",
    "# Opening the file\n",
    "with open(file_path, \"r\") as fp:\n",
    "    # Fill in the variable that represents the file we are working with\n",
    "    content = fp.read()\n",
    "    \n",
    "print(\"Content of the file:\",content)"
   ]
  },
  {
   "cell_type": "code",
   "execution_count": 6,
   "id": "52798b9a-570c-4ee6-96d7-38a2b6f9dd83",
   "metadata": {},
   "outputs": [
    {
     "name": "stdout",
     "output_type": "stream",
     "text": [
      "Error reading file: 'charmap' codec can't decode byte 0x9d in position 806: character maps to <undefined>\n"
     ]
    }
   ],
   "source": [
    "# Add a try-except block to catch the exception\n",
    "try:\n",
    "    # Fill in the stories filename\n",
    "    file_path = os.path.join(dataset_path,\"story-1.txt\")\n",
    "\n",
    "    # Opening the file\n",
    "    with open(file_path, \"r\") as fp:\n",
    "        # Fill in the variable that represents the file we are working with\n",
    "        content = fp.read()\n",
    "    \n",
    "    print(\"Content of the file:\", content)\n",
    "\n",
    "except Exception as e:\n",
    "    print(\"Error reading file:\", e)"
   ]
  },
  {
   "cell_type": "code",
   "execution_count": 7,
   "id": "442c5ff6-a742-4e37-b25d-e251df9c5f3a",
   "metadata": {},
   "outputs": [
    {
     "name": "stdout",
     "output_type": "stream",
     "text": [
      "Content of the file: The Monkey and the Crocodile:\n",
      "\n",
      "Once upon a time, in a forest, there lived a monkey who resided on a jamoon (berry) tree, which was on the banks of a river. In the same forest, there lived a crocodile and his wife. One day, the crocodile came to the banks of the river and rested under the tree. The kindhearted monkey offered him some fruits. The crocodile came back the next day for more fruits, as he loved them. As days passed by, the crocodile and the monkey became good friends.\n",
      "\n",
      "One day, the monkey sent some fruits for the crocodile’s wife. She ate the fruits and liked them, but was jealous, as she didn’t like her husband spending time with the monkey. She told her husband, “If the fruits are so juicy, I wonder how sweet the monkey’s heart would be. Get me the heart of the monkey.” The crocodile was not willing to kill his friend, but had no choice.\n",
      "\n",
      "He invited the monkey to his house for dinner and that his wife would like to meet him. The monkey was happy, but couldn’t swim, so the crocodile took him on his back. The crocodile was happy that he had tricked the monkey, however, while talking, he blurted out the real reason for taking the monkey home. The clever monkey said, “You should have told me earlier, I left my heart on the tree. We must go back and get it.” The crocodile believed him and took him back to the tree. Thus, the clever monkey saved his life.\n",
      "\n"
     ]
    }
   ],
   "source": [
    "# Fix charmap error\n",
    "try:\n",
    "    # Fill in the stories filename\n",
    "    file_path = os.path.join(dataset_path, \"story-1.txt\")\n",
    "\n",
    "    # Opening the file with UTF-8 encoding\n",
    "    with open(file_path, \"r\", encoding=\"utf-8\") as fp:\n",
    "        # Fill in the variable that represents the file we are working with\n",
    "        content = fp.read()\n",
    "    \n",
    "    print(\"Content of the file:\", content)\n",
    "\n",
    "except Exception as e:\n",
    "    print(\"Error reading file:\", e)"
   ]
  },
  {
   "cell_type": "code",
   "execution_count": 8,
   "id": "b4efd989-ffdf-4a8a-9c5d-64a577ae57ec",
   "metadata": {},
   "outputs": [
    {
     "name": "stdout",
     "output_type": "stream",
     "text": [
      "['the', 'monkey', 'and', 'the', 'crocodile:', 'once', 'upon', 'a', 'time,', 'in', 'a', 'forest,', 'there', 'lived', 'a', 'monkey', 'who', 'resided', 'on', 'a', 'jamoon', '(berry)', 'tree,', 'which', 'was', 'on', 'the', 'banks', 'of', 'a', 'river.', 'in', 'the', 'same', 'forest,', 'there', 'lived', 'a', 'crocodile', 'and', 'his', 'wife.', 'one', 'day,', 'the', 'crocodile', 'came', 'to', 'the', 'banks', 'of', 'the', 'river', 'and', 'rested', 'under', 'the', 'tree.', 'the', 'kindhearted', 'monkey', 'offered', 'him', 'some', 'fruits.', 'the', 'crocodile', 'came', 'back', 'the', 'next', 'day', 'for', 'more', 'fruits,', 'as', 'he', 'loved', 'them.', 'as', 'days', 'passed', 'by,', 'the', 'crocodile', 'and', 'the', 'monkey', 'became', 'good', 'friends.', 'one', 'day,', 'the', 'monkey', 'sent', 'some', 'fruits', 'for', 'the', 'crocodile’s', 'wife.', 'she', 'ate', 'the', 'fruits', 'and', 'liked', 'them,', 'but', 'was', 'jealous,', 'as', 'she', 'didn’t', 'like', 'her', 'husband', 'spending', 'time', 'with', 'the', 'monkey.', 'she', 'told', 'her', 'husband,', '“if', 'the', 'fruits', 'are', 'so', 'juicy,', 'i', 'wonder', 'how', 'sweet', 'the', 'monkey’s', 'heart', 'would', 'be.', 'get', 'me', 'the', 'heart', 'of', 'the', 'monkey.”', 'the', 'crocodile', 'was', 'not', 'willing', 'to', 'kill', 'his', 'friend,', 'but', 'had', 'no', 'choice.', 'he', 'invited', 'the', 'monkey', 'to', 'his', 'house', 'for', 'dinner', 'and', 'that', 'his', 'wife', 'would', 'like', 'to', 'meet', 'him.', 'the', 'monkey', 'was', 'happy,', 'but', 'couldn’t', 'swim,', 'so', 'the', 'crocodile', 'took', 'him', 'on', 'his', 'back.', 'the', 'crocodile', 'was', 'happy', 'that', 'he', 'had', 'tricked', 'the', 'monkey,', 'however,', 'while', 'talking,', 'he', 'blurted', 'out', 'the', 'real', 'reason', 'for', 'taking', 'the', 'monkey', 'home.', 'the', 'clever', 'monkey', 'said,', '“you', 'should', 'have', 'told', 'me', 'earlier,', 'i', 'left', 'my', 'heart', 'on', 'the', 'tree.', 'we', 'must', 'go', 'back', 'and', 'get', 'it.”', 'the', 'crocodile', 'believed', 'him', 'and', 'took', 'him', 'back', 'to', 'the', 'tree.', 'thus,', 'the', 'clever', 'monkey', 'saved', 'his', 'life.']\n"
     ]
    }
   ],
   "source": [
    "# Convert content to lowercase and split it into words\n",
    "lower_content = content.lower()\n",
    "words = lower_content.split() \n",
    "\n",
    "# The response should be a python list of words like: \"This is a test\" -> ['this', 'is', 'a', 'test']\n",
    "print(words)"
   ]
  },
  {
   "cell_type": "code",
   "execution_count": 9,
   "id": "6feb0589-3d39-4950-87c9-30787947806e",
   "metadata": {},
   "outputs": [
    {
     "name": "stdout",
     "output_type": "stream",
     "text": [
      "{'the': 34, 'monkey': 10, 'and': 8, 'crocodile:': 1, 'once': 1, 'upon': 1, 'a': 6, 'time,': 1, 'in': 2, 'forest,': 2, 'there': 2, 'lived': 2, 'who': 1, 'resided': 1, 'on': 4, 'jamoon': 1, '(berry)': 1, 'tree,': 1, 'which': 1, 'was': 5, 'banks': 2, 'of': 3, 'river.': 1, 'same': 1, 'crocodile': 8, 'his': 6, 'wife.': 2, 'one': 2, 'day,': 2, 'came': 2, 'to': 5, 'river': 1, 'rested': 1, 'under': 1, 'tree.': 3, 'kindhearted': 1, 'offered': 1, 'him': 4, 'some': 2, 'fruits.': 1, 'back': 3, 'next': 1, 'day': 1, 'for': 4, 'more': 1, 'fruits,': 1, 'as': 3, 'he': 4, 'loved': 1, 'them.': 1, 'days': 1, 'passed': 1, 'by,': 1, 'became': 1, 'good': 1, 'friends.': 1, 'sent': 1, 'fruits': 3, 'crocodile’s': 1, 'she': 3, 'ate': 1, 'liked': 1, 'them,': 1, 'but': 3, 'jealous,': 1, 'didn’t': 1, 'like': 2, 'her': 2, 'husband': 1, 'spending': 1, 'time': 1, 'with': 1, 'monkey.': 1, 'told': 2, 'husband,': 1, '“if': 1, 'are': 1, 'so': 2, 'juicy,': 1, 'i': 2, 'wonder': 1, 'how': 1, 'sweet': 1, 'monkey’s': 1, 'heart': 3, 'would': 2, 'be.': 1, 'get': 2, 'me': 2, 'monkey.”': 1, 'not': 1, 'willing': 1, 'kill': 1, 'friend,': 1, 'had': 2, 'no': 1, 'choice.': 1, 'invited': 1, 'house': 1, 'dinner': 1, 'that': 2, 'wife': 1, 'meet': 1, 'him.': 1, 'happy,': 1, 'couldn’t': 1, 'swim,': 1, 'took': 2, 'back.': 1, 'happy': 1, 'tricked': 1, 'monkey,': 1, 'however,': 1, 'while': 1, 'talking,': 1, 'blurted': 1, 'out': 1, 'real': 1, 'reason': 1, 'taking': 1, 'home.': 1, 'clever': 2, 'said,': 1, '“you': 1, 'should': 1, 'have': 1, 'earlier,': 1, 'left': 1, 'my': 1, 'we': 1, 'must': 1, 'go': 1, 'it.”': 1, 'believed': 1, 'thus,': 1, 'saved': 1, 'life.': 1}\n"
     ]
    }
   ],
   "source": [
    "# Create a dictionary and count the words\n",
    "word_count = {}\n",
    "for word in words:\n",
    "    if word in word_count:\n",
    "\n",
    "        word_count[word] += 1\n",
    "    else:\n",
    "\n",
    "        word_count[word] = 1\n",
    "\n",
    "print(word_count)"
   ]
  },
  {
   "cell_type": "code",
   "execution_count": 13,
   "id": "b523f334-c78b-4f3b-a34e-bf0ebc435c06",
   "metadata": {},
   "outputs": [],
   "source": [
    "# Create a function to process each file by counting the words\n",
    "def count_words_in_file(file_path):\n",
    "\n",
    "    word_count = {}\n",
    "\n",
    "    try:\n",
    "        # Opening the file with UTF-8 encoding\n",
    "        with open(file_path, \"r\", encoding=\"utf-8\") as fp:\n",
    "            # Fill in the variable that represents the file we are working with\n",
    "            content = fp.read()\n",
    "\n",
    "        # Convert content to lowercase and split it into words\n",
    "        lower_content = content.lower()\n",
    "        words = lower_content.split()\n",
    "\n",
    "        # Count occurrences of each words\n",
    "        for word in words:\n",
    "            if word in word_count:\n",
    "\n",
    "                word_count[word] += 1\n",
    "            else:\n",
    "\n",
    "                word_count[word] = 1\n",
    "\n",
    "    except Exception as e:\n",
    "        print(f\"Error reading file {file_path}: {e}\")\n",
    "\n",
    "    return word_count"
   ]
  },
  {
   "cell_type": "code",
   "execution_count": 15,
   "id": "c16782db-d437-4a50-82bc-f501a5b102d8",
   "metadata": {},
   "outputs": [
    {
     "name": "stdout",
     "output_type": "stream",
     "text": [
      "{'the': 23, 'musical': 1, 'donkey': 8, 'a': 7, 'washer': 1, 'man’s': 1, 'would': 4, 'be': 1, 'free': 1, 'to': 8, 'graze': 1, 'on': 7, 'green': 1, 'field,': 2, 'after': 1, 'hard': 1, 'day’s': 1, 'work.': 1, 'instead': 1, 'of': 2, 'staying': 1, 'he': 4, 'sneak': 1, 'into': 1, 'villagers’': 1, 'farms': 1, 'and': 13, 'eat': 2, 'vegetables': 1, 'growing,': 1, 'before': 1, 'sneaking': 1, 'back': 1, 'home.': 1, 'met': 1, 'jackal,': 1, 'they': 3, 'became': 1, 'good': 1, 'friends.': 1, 'decided': 1, 'hunt': 1, 'together,': 1, 'fat': 1, 'break': 1, 'fence': 1, 'vegetables,': 1, 'while': 1, 'jackal': 5, 'hunted': 1, 'farm': 1, 'animals.': 1, 'one': 1, 'night,': 1, 'told': 1, 'that': 2, 'felt': 1, 'like': 1, 'singing.': 3, 'pleaded': 1, 'with': 1, 'him': 3, 'not': 1, 'sing,': 1, 'as': 3, 'get': 2, 'caught.': 1, 'however,': 1, 'got': 1, 'annoyed': 1, 'insisted': 1, 'opened': 1, 'his': 2, 'mouth': 1, 'began': 1, 'bray': 1, 'loudly,': 1, 'immediately': 1, 'ran': 1, 'away.': 1, 'farmers,': 1, 'hearing': 1, 'bray,': 1, 'came': 1, 'rushing': 1, 'out': 2, 'thrashed': 1, 'for': 4, 'eating': 1, 'their': 3, 'vegetables.': 1, 'farmers': 2, 'tied': 1, 'mortar': 1, 'donkey,': 1, 'walked': 1, 'home,': 1, 'joked': 1, 'about': 1, 'gifting': 1, 'necklace': 1, 'moral': 2, 'story:': 1, 'there': 1, 'is': 1, 'time': 1, 'place': 1, 'everything.': 1, 'you': 1, 'can': 4, 'narrate': 1, 'these': 4, 'panchatantra': 2, 'stories': 3, 'explain': 1, 'values': 1, 'children.': 1, 'example,': 1, 'discipline,': 1, 'friendship,': 1, 'strength,': 1, 'intelligence': 1, 'other': 2, 'virtues,': 1, 'make': 1, 'children': 1, 'understand': 1, 'what': 1, 'morals': 1, 'stand': 1, 'for,': 1, 'impact': 1, 'daily': 1, 'lives.': 1, 'also': 1, 'help': 1, 'in': 1, 'your': 3, 'child’s': 2, 'linguistic': 1, 'cognitive': 1, 'development.': 1, 'further': 1, 'develop': 1, 'qualities,': 1, 'kid’s': 1, 'activity': 1, 'subscription': 1, 'kit': 1, 'contains': 1, 'fun': 1, 'interesting': 1, 'activities.': 1, 'by': 1, 'trying': 1, 'activities,': 1, 'child': 1, 'enhance': 1, 'his/her': 1, 'skills': 1, 'well.': 1}\n"
     ]
    }
   ],
   "source": [
    "# Test function by running the following code:\n",
    "\n",
    "file_path = os.path.join(dataset_path, \"story-2.txt\")\n",
    "counts_dictionary = count_words_in_file(file_path)\n",
    "\n",
    "print(counts_dictionary)"
   ]
  },
  {
   "cell_type": "code",
   "execution_count": 16,
   "id": "50e6d8fe-3506-45b2-a9ad-c16243086cba",
   "metadata": {},
   "outputs": [
    {
     "name": "stdout",
     "output_type": "stream",
     "text": [
      "[{'the': 34, 'monkey': 10, 'and': 8, 'crocodile:': 1, 'once': 1, 'upon': 1, 'a': 6, 'time,': 1, 'in': 2, 'forest,': 2, 'there': 2, 'lived': 2, 'who': 1, 'resided': 1, 'on': 4, 'jamoon': 1, '(berry)': 1, 'tree,': 1, 'which': 1, 'was': 5, 'banks': 2, 'of': 3, 'river.': 1, 'same': 1, 'crocodile': 8, 'his': 6, 'wife.': 2, 'one': 2, 'day,': 2, 'came': 2, 'to': 5, 'river': 1, 'rested': 1, 'under': 1, 'tree.': 3, 'kindhearted': 1, 'offered': 1, 'him': 4, 'some': 2, 'fruits.': 1, 'back': 3, 'next': 1, 'day': 1, 'for': 4, 'more': 1, 'fruits,': 1, 'as': 3, 'he': 4, 'loved': 1, 'them.': 1, 'days': 1, 'passed': 1, 'by,': 1, 'became': 1, 'good': 1, 'friends.': 1, 'sent': 1, 'fruits': 3, 'crocodile’s': 1, 'she': 3, 'ate': 1, 'liked': 1, 'them,': 1, 'but': 3, 'jealous,': 1, 'didn’t': 1, 'like': 2, 'her': 2, 'husband': 1, 'spending': 1, 'time': 1, 'with': 1, 'monkey.': 1, 'told': 2, 'husband,': 1, '“if': 1, 'are': 1, 'so': 2, 'juicy,': 1, 'i': 2, 'wonder': 1, 'how': 1, 'sweet': 1, 'monkey’s': 1, 'heart': 3, 'would': 2, 'be.': 1, 'get': 2, 'me': 2, 'monkey.”': 1, 'not': 1, 'willing': 1, 'kill': 1, 'friend,': 1, 'had': 2, 'no': 1, 'choice.': 1, 'invited': 1, 'house': 1, 'dinner': 1, 'that': 2, 'wife': 1, 'meet': 1, 'him.': 1, 'happy,': 1, 'couldn’t': 1, 'swim,': 1, 'took': 2, 'back.': 1, 'happy': 1, 'tricked': 1, 'monkey,': 1, 'however,': 1, 'while': 1, 'talking,': 1, 'blurted': 1, 'out': 1, 'real': 1, 'reason': 1, 'taking': 1, 'home.': 1, 'clever': 2, 'said,': 1, '“you': 1, 'should': 1, 'have': 1, 'earlier,': 1, 'left': 1, 'my': 1, 'we': 1, 'must': 1, 'go': 1, 'it.”': 1, 'believed': 1, 'thus,': 1, 'saved': 1, 'life.': 1}, {'the': 23, 'musical': 1, 'donkey': 8, 'a': 7, 'washer': 1, 'man’s': 1, 'would': 4, 'be': 1, 'free': 1, 'to': 8, 'graze': 1, 'on': 7, 'green': 1, 'field,': 2, 'after': 1, 'hard': 1, 'day’s': 1, 'work.': 1, 'instead': 1, 'of': 2, 'staying': 1, 'he': 4, 'sneak': 1, 'into': 1, 'villagers’': 1, 'farms': 1, 'and': 13, 'eat': 2, 'vegetables': 1, 'growing,': 1, 'before': 1, 'sneaking': 1, 'back': 1, 'home.': 1, 'met': 1, 'jackal,': 1, 'they': 3, 'became': 1, 'good': 1, 'friends.': 1, 'decided': 1, 'hunt': 1, 'together,': 1, 'fat': 1, 'break': 1, 'fence': 1, 'vegetables,': 1, 'while': 1, 'jackal': 5, 'hunted': 1, 'farm': 1, 'animals.': 1, 'one': 1, 'night,': 1, 'told': 1, 'that': 2, 'felt': 1, 'like': 1, 'singing.': 3, 'pleaded': 1, 'with': 1, 'him': 3, 'not': 1, 'sing,': 1, 'as': 3, 'get': 2, 'caught.': 1, 'however,': 1, 'got': 1, 'annoyed': 1, 'insisted': 1, 'opened': 1, 'his': 2, 'mouth': 1, 'began': 1, 'bray': 1, 'loudly,': 1, 'immediately': 1, 'ran': 1, 'away.': 1, 'farmers,': 1, 'hearing': 1, 'bray,': 1, 'came': 1, 'rushing': 1, 'out': 2, 'thrashed': 1, 'for': 4, 'eating': 1, 'their': 3, 'vegetables.': 1, 'farmers': 2, 'tied': 1, 'mortar': 1, 'donkey,': 1, 'walked': 1, 'home,': 1, 'joked': 1, 'about': 1, 'gifting': 1, 'necklace': 1, 'moral': 2, 'story:': 1, 'there': 1, 'is': 1, 'time': 1, 'place': 1, 'everything.': 1, 'you': 1, 'can': 4, 'narrate': 1, 'these': 4, 'panchatantra': 2, 'stories': 3, 'explain': 1, 'values': 1, 'children.': 1, 'example,': 1, 'discipline,': 1, 'friendship,': 1, 'strength,': 1, 'intelligence': 1, 'other': 2, 'virtues,': 1, 'make': 1, 'children': 1, 'understand': 1, 'what': 1, 'morals': 1, 'stand': 1, 'for,': 1, 'impact': 1, 'daily': 1, 'lives.': 1, 'also': 1, 'help': 1, 'in': 1, 'your': 3, 'child’s': 2, 'linguistic': 1, 'cognitive': 1, 'development.': 1, 'further': 1, 'develop': 1, 'qualities,': 1, 'kid’s': 1, 'activity': 1, 'subscription': 1, 'kit': 1, 'contains': 1, 'fun': 1, 'interesting': 1, 'activities.': 1, 'by': 1, 'trying': 1, 'activities,': 1, 'child': 1, 'enhance': 1, 'his/her': 1, 'skills': 1, 'well.': 1}, {'a': 4, 'tale': 1, 'of': 4, 'three': 2, 'fish': 8, 'in': 2, 'lake,': 1, 'there': 1, 'were': 2, 'who': 1, 'great': 1, 'friends.': 1, 'the': 16, 'first': 3, 'was': 2, 'very': 1, 'smart,': 1, 'second': 3, 'one': 3, 'knew': 1, 'how': 1, 'to': 6, 'find': 2, 'his': 2, 'way': 2, 'out': 3, 'trouble,': 1, 'and': 9, 'third': 3, 'adamant': 1, 'hated': 1, 'changes.': 1, 'overheard': 1, 'fisherman’s': 1, 'conversation': 1, 'about': 1, 'coming': 1, 'back': 1, 'next': 2, 'day': 1, 'fishing': 1, 'lake.': 2, 'sensing': 1, 'danger,': 1, 'he': 1, 'cautioned': 1, 'friends': 1, 'move': 2, 'said,': 2, '“i': 2, 'will': 2, 'stay': 1, 'here': 1, 'if': 2, 'i’m': 1, 'caught.”': 1, 'do': 1, 'not': 1, 'want': 1, 'out.': 2, 'i': 3, 'remain': 1, 'here,': 1, 'have': 1, 'get': 1, 'caught,': 1, 'will.”': 1, 'moved': 1, 'day,': 1, 'fisherman': 1, 'arrived': 1, 'caught': 2, 'other': 1, 'two': 1, 'fish.': 1, 'cleverly': 1, 'escaped': 1, 'by': 1, 'pretending': 1, 'be': 2, 'dead.': 1, 'did': 1, 'nothing': 1, 'got': 1, 'died.': 1, 'moral': 1, 'story:': 1, 'should': 1, 'always': 1, 'open': 1, 'change': 1, 'adapt': 1, 'accordingly.': 1, 'take': 1, 'immediate': 1, 'action': 1, 'when': 1, 'you': 1, 'sense': 1, 'danger.': 1}, {'the': 27, 'foolish': 1, 'lion': 9, 'and': 8, 'clever': 1, 'rabbit': 6, 'once': 1, 'upon': 1, 'a': 3, 'time,': 1, 'there': 1, 'lived': 1, 'greedy': 1, 'who': 1, 'attacked': 2, 'killed': 1, 'animals,': 1, 'because': 1, 'of': 4, 'which': 1, 'every': 1, 'animal': 2, 'in': 2, 'jungle': 1, 'was': 4, 'very': 1, 'afraid': 1, 'him.': 1, 'one': 2, 'day,': 2, 'they': 2, 'decided': 2, 'that': 2, 'each': 1, 'would': 1, 'go': 1, 'to': 9, 'lion,': 2, 'per': 1, 'as': 2, 'his': 4, 'prey.': 1, 'agreed.': 1, 'when': 1, 'it': 1, 'rabbit’s': 1, 'turn,': 1, 'send': 1, 'wise': 3, 'old': 2, 'one.': 2, 'he': 2, 'travelled': 1, 'slowly': 1, 'reached': 1, 'lion’s': 1, 'den': 1, 'before': 1, 'sunset.': 1, 'furiously': 1, 'asked': 2, 'him,': 1, '“why': 1, 'are': 1, 'you': 1, 'so': 1, 'late?”': 1, 'answered,': 1, '”a': 1, 'group': 1, 'rabbits': 1, 'were': 2, 'coming': 1, 'you,': 1, 'but': 1, 'on': 2, 'their': 1, 'way,': 1, 'others': 1, 'by': 1, 'another': 1, 'ferocious': 1, 'lion.': 2, 'i': 1, 'managed': 1, 'escape': 1, 'came': 1, 'here.”': 1, 'also': 1, 'mentioned': 1, 'other': 2, 'challenging': 1, 'this': 2, 'extremely': 1, 'angry': 1, 'take': 1, 'him': 2, 'meet': 1, 'new': 1, 'took': 1, 'deep': 1, 'well,': 1, 'showed': 1, 'own': 1, 'reflection.': 1, 'growled,': 1, 'reflection': 2, 'did': 1, 'same.': 1, 'considered': 1, 'be': 1, 'enemy.': 1, 'enraged': 1, 'jumped': 1, 'into': 1, 'well': 1, 'attack': 1, 'ended': 1, 'up': 1, 'dying.': 1, 'thus,': 1, 'saved': 1, 'himself,': 1, 'all': 1, 'animals': 1, 'forest.': 1, 'moral': 1, 'story:': 1, 'must': 1, 'always': 1, 'focus': 1, 'solutions,': 1, 'rather': 1, 'than': 1, 'problems.': 1}]\n"
     ]
    }
   ],
   "source": [
    "# List of files names to read in the same directory\n",
    "stories = [\"story-1.txt\", \"story-2.txt\", \"story-3.txt\", \"story-4.txt\"]\n",
    "\n",
    "word_counts = []\n",
    "\n",
    "for story in stories:\n",
    "    \n",
    "    file_path = os.path.join(dataset_path, story)\n",
    "    \n",
    "    word_count = count_words_in_file(file_path)\n",
    "    \n",
    "    word_counts.append(word_count)\n",
    "\n",
    "print(word_counts)"
   ]
  },
  {
   "cell_type": "code",
   "execution_count": null,
   "id": "976d82ec-bd7e-480d-b69b-5f49b216b44e",
   "metadata": {},
   "outputs": [],
   "source": []
  }
 ],
 "metadata": {
  "kernelspec": {
   "display_name": "Python 3 (ipykernel)",
   "language": "python",
   "name": "python3"
  },
  "language_info": {
   "codemirror_mode": {
    "name": "ipython",
    "version": 3
   },
   "file_extension": ".py",
   "mimetype": "text/x-python",
   "name": "python",
   "nbconvert_exporter": "python",
   "pygments_lexer": "ipython3",
   "version": "3.9.13"
  }
 },
 "nbformat": 4,
 "nbformat_minor": 5
}
